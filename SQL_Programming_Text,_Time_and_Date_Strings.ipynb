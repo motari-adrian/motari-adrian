{
  "nbformat": 4,
  "nbformat_minor": 0,
  "metadata": {
    "colab": {
      "name": "SQL Programming - Text, Time and Date Strings",
      "provenance": [],
      "collapsed_sections": [
        "gns5TJfPZCCB",
        "yLQD0MY2a-2H",
        "hZMiwaprbFRD",
        "TUnOLEFCbk0o",
        "dyTun0GIbK67",
        "pS4CWYNGcJZw",
        "JkZaAjv-bSPO",
        "VIT5Iy-kcSMl"
      ],
      "include_colab_link": true
    },
    "kernelspec": {
      "name": "python3",
      "display_name": "Python 3"
    }
  },
  "cells": [
    {
      "cell_type": "markdown",
      "metadata": {
        "id": "view-in-github",
        "colab_type": "text"
      },
      "source": [
        "<a href=\"https://colab.research.google.com/github/motari-adrian/motari-adrian/blob/main/SQL_Programming_Text%2C_Time_and_Date_Strings.ipynb\" target=\"_parent\"><img src=\"https://colab.research.google.com/assets/colab-badge.svg\" alt=\"Open In Colab\"/></a>"
      ]
    },
    {
      "cell_type": "markdown",
      "metadata": {
        "id": "Ex7oqvOZZZQu"
      },
      "source": [
        "<font color=\"green\">*To start working on this notebook, or any other notebook that we will use in the Moringa Data Science Course, we will need to save our own copy of it. We can do this by clicking File > Save a Copy in Drive. We will then be able to make edits to our own copy of this notebook.*</font>"
      ]
    },
    {
      "cell_type": "markdown",
      "metadata": {
        "id": "OIIswKWoZEob"
      },
      "source": [
        "# 1. SQL Programming - Text, Time and Date Strings"
      ]
    },
    {
      "cell_type": "markdown",
      "metadata": {
        "id": "gns5TJfPZCCB"
      },
      "source": [
        "## 1.0 Connecting to our Database"
      ]
    },
    {
      "cell_type": "code",
      "metadata": {
        "id": "aR2xslaQWceL",
        "colab": {
          "base_uri": "https://localhost:8080/",
          "height": 35
        },
        "outputId": "24597b8a-8166-4b6e-8bab-e895a0f01c2c"
      },
      "source": [
        "# We will first load the sql extension into our environment\n",
        "%load_ext sql\n",
        "\n",
        "# Then connect to our in memory sqlite database\n",
        "# NB: This database will cease to exist as soon as the database connection is closed. \n",
        "%sql sqlite://"
      ],
      "execution_count": 1,
      "outputs": [
        {
          "output_type": "execute_result",
          "data": {
            "application/vnd.google.colaboratory.intrinsic+json": {
              "type": "string"
            },
            "text/plain": [
              "'Connected: @None'"
            ]
          },
          "metadata": {
            "tags": []
          },
          "execution_count": 1
        }
      ]
    },
    {
      "cell_type": "markdown",
      "metadata": {
        "id": "RPsqmCbjcljo"
      },
      "source": [
        "Datasets used in this notebook:\n",
        "\n",
        "\n",
        "1.   **Main Lighting Energy Sources averaged to Districts in 2009**\n",
        "\n",
        "> ([Dataset Download Link](https://drive.google.com/a/moringaschool.com/file/d/1XyZwH35bo99OZIAGHH8LMN48stLwyG-b/view?usp=sharing))\n",
        "\n",
        "2.   **Kisumu County Energy and Mining Project Implementation Status** \n",
        "\n",
        "> ([Dataset Download Link](https://drive.google.com/a/moringaschool.com/file/d/1awhsX-tmd_RvM1PxPhhg21GTFuDn34ca/view?usp=sharing))\n",
        "\n",
        "3. **Population by District**\n",
        "\n",
        ">  ([Dataset Download Link](https://drive.google.com/a/moringaschool.com/file/d/1ZpbtJ-YAzfAtnQ4k-R_zpEbYRvP5lZhr/view?usp=sharing))\n",
        "\n",
        "4. **Visitors to Kenya between 1991 to 2014**\n",
        "\n",
        ">  ([Dataset Download Link](https://drive.google.com/a/moringaschool.com/file/d/1FJs1YU76tRyHEtHU6w62LYQlR8Jz_4d1/view?usp=sharing))\n",
        "\n",
        "5. **Boston Marathon Results 2016**\n",
        "\n",
        ">  ([Dataset Download Link](https://drive.google.com/a/moringaschool.com/file/d/1FKhXZemUZuwYSJydUDgukyqJt3ouvKGi/view?usp=sharing))\n",
        "\n",
        "6. **Kenyan Government Appointments**\n",
        "\n",
        ">  ([Dataset Download Link](https://drive.google.com/a/moringaschool.com/file/d/19m7bydCYOyH8qb68S-Jn-dAX0TrjSHKh/view?usp=sharing))\n",
        "\n",
        "7. **Tea Production**\n",
        "\n",
        ">  ([Dataset Download Link](https://drive.google.com/open?id=1Nf3SfkLuxK8oWX2m_RAOILLrpY7pFDaF))\n",
        "\n"
      ]
    },
    {
      "cell_type": "markdown",
      "metadata": {
        "id": "yLQD0MY2a-2H"
      },
      "source": [
        "## 1.1 Loading our Datasets"
      ]
    },
    {
      "cell_type": "code",
      "metadata": {
        "id": "hqLapdFXbfsp"
      },
      "source": [
        "# Importing Pandas\n",
        "import pandas as pd"
      ],
      "execution_count": 2,
      "outputs": []
    },
    {
      "cell_type": "code",
      "metadata": {
        "id": "4eDIVhifGiZh",
        "colab": {
          "base_uri": "https://localhost:8080/",
          "height": 590
        },
        "outputId": "6644986a-9ad7-4521-b2f2-872f3072d7a5"
      },
      "source": [
        "# Loading our lighting dataset  from the respective CSV file \n",
        "with open('lighting_dataset.csv','r') as f:\n",
        "    Lighting = pd.read_csv(f, index_col=0, encoding='utf-8')\n",
        "%sql DROP TABLE if EXISTS Lighting;\n",
        "%sql PERSIST Lighting;\n",
        "%sql SELECT * FROM Lighting LIMIT 5;"
      ],
      "execution_count": 3,
      "outputs": [
        {
          "output_type": "stream",
          "text": [
            " * sqlite://\n",
            "Done.\n",
            " * sqlite://\n",
            " * sqlite://\n",
            "Done.\n"
          ],
          "name": "stdout"
        },
        {
          "output_type": "execute_result",
          "data": {
            "text/html": [
              "<table>\n",
              "    <thead>\n",
              "        <tr>\n",
              "            <th>District</th>\n",
              "            <th>Rural_/_Urban</th>\n",
              "            <th>%_of_households_with_electricty</th>\n",
              "            <th>%_of_households_with_Pressure_Lamp</th>\n",
              "            <th>%_of_households_with_Lantern</th>\n",
              "            <th>%_of_households_with_Tin_Lamp</th>\n",
              "            <th>%_of_households_with_Gas_Lamp</th>\n",
              "            <th>%_of_households_with_Fuel_wood</th>\n",
              "            <th>%_of_households_with_Solar</th>\n",
              "            <th>%_of_households_with_Other</th>\n",
              "            <th>Housheolds</th>\n",
              "            <th>No_of_households_with_electricity</th>\n",
              "            <th>No_of_households_with_Pressure_Lamp</th>\n",
              "            <th>No_of_households_with_Lantern</th>\n",
              "            <th>No_of_households_with_Tin_Lamp</th>\n",
              "            <th>No_of_households_with_Gas_Lamp</th>\n",
              "            <th>No_of_households_with_Fuel_wood</th>\n",
              "            <th>No_of_households_with_Solar</th>\n",
              "            <th>No_of_households_with_Other</th>\n",
              "            <th>Province</th>\n",
              "            <th>County</th>\n",
              "            <th>Census_Table</th>\n",
              "            <th>MTEF</th>\n",
              "            <th>MTP</th>\n",
              "            <th>Longtitude</th>\n",
              "            <th>Latitude</th>\n",
              "            <th>Geolocation</th>\n",
              "            <th>OBJECTID</th>\n",
              "        </tr>\n",
              "    </thead>\n",
              "    <tbody>\n",
              "        <tr>\n",
              "            <td>MERU CENTRAL</td>\n",
              "            <td>Urban</td>\n",
              "            <td>None</td>\n",
              "            <td>None</td>\n",
              "            <td>None</td>\n",
              "            <td>None</td>\n",
              "            <td>None</td>\n",
              "            <td>None</td>\n",
              "            <td>None</td>\n",
              "            <td>None</td>\n",
              "            <td>0</td>\n",
              "            <td>0</td>\n",
              "            <td>0</td>\n",
              "            <td>0</td>\n",
              "            <td>0</td>\n",
              "            <td>0</td>\n",
              "            <td>0</td>\n",
              "            <td>0</td>\n",
              "            <td>0</td>\n",
              "            <td>EASTERN</td>\n",
              "            <td>Meru</td>\n",
              "            <td>Table 10b: Urban Households by main type of Lighting Fuel</td>\n",
              "            <td>Physical Infrastructure</td>\n",
              "            <td>Energy</td>\n",
              "            <td>37.58330732</td>\n",
              "            <td>0.001443681</td>\n",
              "            <td>(0.001443681, 37.58330732)</td>\n",
              "            <td>0</td>\n",
              "        </tr>\n",
              "        <tr>\n",
              "            <td>KAKAMEGA SOUTH</td>\n",
              "            <td>Urban</td>\n",
              "            <td>None</td>\n",
              "            <td>None</td>\n",
              "            <td>None</td>\n",
              "            <td>None</td>\n",
              "            <td>None</td>\n",
              "            <td>None</td>\n",
              "            <td>None</td>\n",
              "            <td>None</td>\n",
              "            <td>0</td>\n",
              "            <td>0</td>\n",
              "            <td>0</td>\n",
              "            <td>0</td>\n",
              "            <td>0</td>\n",
              "            <td>0</td>\n",
              "            <td>0</td>\n",
              "            <td>0</td>\n",
              "            <td>0</td>\n",
              "            <td>WESTERN</td>\n",
              "            <td>Kakamega</td>\n",
              "            <td>Table 10a: Rural Households by main type of Lighting Fuel</td>\n",
              "            <td>Physical Infrastructure</td>\n",
              "            <td>Energy</td>\n",
              "            <td>34.7077479</td>\n",
              "            <td>0.190561619</td>\n",
              "            <td>(0.190561619, 34.7077479)</td>\n",
              "            <td>1</td>\n",
              "        </tr>\n",
              "        <tr>\n",
              "            <td>NYANDARUA NORTH</td>\n",
              "            <td>Urban</td>\n",
              "            <td>6.3%</td>\n",
              "            <td>0.6%</td>\n",
              "            <td>51.6%</td>\n",
              "            <td>32.1%</td>\n",
              "            <td>0.8%</td>\n",
              "            <td>0.4%</td>\n",
              "            <td>7.9%</td>\n",
              "            <td>0.2%</td>\n",
              "            <td>52503</td>\n",
              "            <td>3332</td>\n",
              "            <td>302</td>\n",
              "            <td>27102</td>\n",
              "            <td>16865</td>\n",
              "            <td>395</td>\n",
              "            <td>214</td>\n",
              "            <td>4173</td>\n",
              "            <td>120</td>\n",
              "            <td>CENTRAL</td>\n",
              "            <td>Nyandarua</td>\n",
              "            <td>Table 10b: Urban Households by main type of Lighting Fuel</td>\n",
              "            <td>Physical Infrastructure</td>\n",
              "            <td>Energy</td>\n",
              "            <td>36.42343108</td>\n",
              "            <td>-0.144560572</td>\n",
              "            <td>(-0.144560572, 36.42343108)</td>\n",
              "            <td>2</td>\n",
              "        </tr>\n",
              "        <tr>\n",
              "            <td>NYANDARUA SOUTH</td>\n",
              "            <td>Urban</td>\n",
              "            <td>6%</td>\n",
              "            <td>0.6%</td>\n",
              "            <td>62.8%</td>\n",
              "            <td>24.3%</td>\n",
              "            <td>0.6%</td>\n",
              "            <td>0.2%</td>\n",
              "            <td>5.3%</td>\n",
              "            <td>0.1%</td>\n",
              "            <td>61936</td>\n",
              "            <td>3741</td>\n",
              "            <td>387</td>\n",
              "            <td>38900</td>\n",
              "            <td>15077</td>\n",
              "            <td>384</td>\n",
              "            <td>103</td>\n",
              "            <td>3256</td>\n",
              "            <td>88</td>\n",
              "            <td>CENTRAL</td>\n",
              "            <td>Nyandarua</td>\n",
              "            <td>Table 10b: Urban Households by main type of Lighting Fuel</td>\n",
              "            <td>Physical Infrastructure</td>\n",
              "            <td>Energy</td>\n",
              "            <td>36.55651343</td>\n",
              "            <td>-0.533045224</td>\n",
              "            <td>(-0.533045224, 36.55651343)</td>\n",
              "            <td>3</td>\n",
              "        </tr>\n",
              "        <tr>\n",
              "            <td>NYERI NORTH</td>\n",
              "            <td>Urban</td>\n",
              "            <td>14.5%</td>\n",
              "            <td>1%</td>\n",
              "            <td>41.4%</td>\n",
              "            <td>34.3%</td>\n",
              "            <td>0.6%</td>\n",
              "            <td>0.8%</td>\n",
              "            <td>7.2%</td>\n",
              "            <td>0.2%</td>\n",
              "            <td>81307</td>\n",
              "            <td>11774</td>\n",
              "            <td>775</td>\n",
              "            <td>33686</td>\n",
              "            <td>27884</td>\n",
              "            <td>514</td>\n",
              "            <td>651</td>\n",
              "            <td>5868</td>\n",
              "            <td>155</td>\n",
              "            <td>CENTRAL</td>\n",
              "            <td>Nyeri</td>\n",
              "            <td>Table 10b: Urban Households by main type of Lighting Fuel</td>\n",
              "            <td>Physical Infrastructure</td>\n",
              "            <td>Energy</td>\n",
              "            <td>36.9811441</td>\n",
              "            <td>-0.266587082</td>\n",
              "            <td>(-0.266587082, 36.9811441)</td>\n",
              "            <td>4</td>\n",
              "        </tr>\n",
              "    </tbody>\n",
              "</table>"
            ],
            "text/plain": [
              "[('MERU CENTRAL', 'Urban', None, None, None, None, None, None, None, None, 0, 0, 0, 0, 0, 0, 0, 0, 0, 'EASTERN', 'Meru', 'Table 10b: Urban Households by main type of Lighting Fuel', 'Physical Infrastructure', 'Energy', 37.58330732, 0.001443681, '(0.001443681, 37.58330732)', 0),\n",
              " ('KAKAMEGA SOUTH', 'Urban', None, None, None, None, None, None, None, None, 0, 0, 0, 0, 0, 0, 0, 0, 0, 'WESTERN', 'Kakamega', 'Table 10a: Rural Households by main type of Lighting Fuel', 'Physical Infrastructure', 'Energy', 34.7077479, 0.190561619, '(0.190561619, 34.7077479)', 1),\n",
              " ('NYANDARUA NORTH', 'Urban', '6.3%', '0.6%', '51.6%', '32.1%', '0.8%', '0.4%', '7.9%', '0.2%', 52503, 3332, 302, 27102, 16865, 395, 214, 4173, 120, 'CENTRAL', 'Nyandarua', 'Table 10b: Urban Households by main type of Lighting Fuel', 'Physical Infrastructure', 'Energy', 36.42343108, -0.144560572, '(-0.144560572, 36.42343108)', 2),\n",
              " ('NYANDARUA SOUTH', 'Urban', '6%', '0.6%', '62.8%', '24.3%', '0.6%', '0.2%', '5.3%', '0.1%', 61936, 3741, 387, 38900, 15077, 384, 103, 3256, 88, 'CENTRAL', 'Nyandarua', 'Table 10b: Urban Households by main type of Lighting Fuel', 'Physical Infrastructure', 'Energy', 36.55651343, -0.533045224, '(-0.533045224, 36.55651343)', 3),\n",
              " ('NYERI NORTH', 'Urban', '14.5%', '1%', '41.4%', '34.3%', '0.6%', '0.8%', '7.2%', '0.2%', 81307, 11774, 775, 33686, 27884, 514, 651, 5868, 155, 'CENTRAL', 'Nyeri', 'Table 10b: Urban Households by main type of Lighting Fuel', 'Physical Infrastructure', 'Energy', 36.9811441, -0.266587082, '(-0.266587082, 36.9811441)', 4)]"
            ]
          },
          "metadata": {
            "tags": []
          },
          "execution_count": 3
        }
      ]
    },
    {
      "cell_type": "code",
      "metadata": {
        "id": "O7g4-q_-d8N-",
        "colab": {
          "base_uri": "https://localhost:8080/",
          "height": 315
        },
        "outputId": "6751e059-6566-4516-fd24-69926963f6d4"
      },
      "source": [
        "# Loading our energy mining dataset from the respective CSV file \n",
        "\n",
        "with open('energy_mining_dataset.csv','r') as f:\n",
        "    energy = pd.read_csv(f, index_col=0, encoding='utf-8')\n",
        "%sql DROP TABLE if EXISTS energy;\n",
        "%sql PERSIST energy;\n",
        "%sql SELECT * FROM energy LIMIT 5;"
      ],
      "execution_count": 4,
      "outputs": [
        {
          "output_type": "stream",
          "text": [
            " * sqlite://\n",
            "Done.\n",
            " * sqlite://\n",
            " * sqlite://\n",
            "Done.\n"
          ],
          "name": "stdout"
        },
        {
          "output_type": "execute_result",
          "data": {
            "text/html": [
              "<table>\n",
              "    <thead>\n",
              "        <tr>\n",
              "            <th>COUNTY</th>\n",
              "            <th>WARD</th>\n",
              "            <th>ZONE</th>\n",
              "            <th>PROJECT_NAME</th>\n",
              "            <th>STATUS</th>\n",
              "            <th>DATE</th>\n",
              "            <th>OBJECTID</th>\n",
              "        </tr>\n",
              "    </thead>\n",
              "    <tbody>\n",
              "        <tr>\n",
              "            <td>Kisumu</td>\n",
              "            <td>West Kisumu</td>\n",
              "            <td>Huma market</td>\n",
              "            <td>Supply, installation &amp; commissioning of 8 No. 30m High mast flood lights </td>\n",
              "            <td>100 % Complete</td>\n",
              "            <td>May-31-2015</td>\n",
              "            <td>0</td>\n",
              "        </tr>\n",
              "        <tr>\n",
              "            <td>Kisumu</td>\n",
              "            <td>North west ksm</td>\n",
              "            <td>Daraja Mbili market</td>\n",
              "            <td>Supply, installation &amp; commissioning of 8 No. 30m High mast flood lights </td>\n",
              "            <td>100% Complete</td>\n",
              "            <td>May-31-2015</td>\n",
              "            <td>1</td>\n",
              "        </tr>\n",
              "        <tr>\n",
              "            <td>Kisumu</td>\n",
              "            <td>West Seme</td>\n",
              "            <td>Akado market </td>\n",
              "            <td>Supply, installation &amp; commissioning of 8 No. 30m High mast flood lights </td>\n",
              "            <td>100 % Complete</td>\n",
              "            <td>May-31-2015</td>\n",
              "            <td>2</td>\n",
              "        </tr>\n",
              "        <tr>\n",
              "            <td>Kisumu</td>\n",
              "            <td>Kobura</td>\n",
              "            <td>Korowe market </td>\n",
              "            <td>Supply, installation &amp; commissioning of 8 No. 30m High mast flood lights </td>\n",
              "            <td>100 % Complete</td>\n",
              "            <td>May-31-2015</td>\n",
              "            <td>3</td>\n",
              "        </tr>\n",
              "        <tr>\n",
              "            <td>Kisumu</td>\n",
              "            <td>Kobura</td>\n",
              "            <td>Rabour market </td>\n",
              "            <td>Supply, installation &amp; commissioning of 8 No. 30m High mast flood lights </td>\n",
              "            <td>100 % Complete</td>\n",
              "            <td>May-31-2015</td>\n",
              "            <td>4</td>\n",
              "        </tr>\n",
              "    </tbody>\n",
              "</table>"
            ],
            "text/plain": [
              "[('Kisumu', 'West Kisumu', 'Huma market', 'Supply, installation & commissioning of 8 No. 30m High mast flood lights ', '100 % Complete', 'May-31-2015', 0),\n",
              " ('Kisumu', 'North west ksm', 'Daraja Mbili market', 'Supply, installation & commissioning of 8 No. 30m High mast flood lights ', '100% Complete', 'May-31-2015', 1),\n",
              " ('Kisumu', 'West Seme', 'Akado market ', 'Supply, installation & commissioning of 8 No. 30m High mast flood lights ', '100 % Complete', 'May-31-2015', 2),\n",
              " ('Kisumu', 'Kobura', 'Korowe market ', 'Supply, installation & commissioning of 8 No. 30m High mast flood lights ', '100 % Complete', 'May-31-2015', 3),\n",
              " ('Kisumu', 'Kobura', 'Rabour market ', 'Supply, installation & commissioning of 8 No. 30m High mast flood lights ', '100 % Complete', 'May-31-2015', 4)]"
            ]
          },
          "metadata": {
            "tags": []
          },
          "execution_count": 4
        }
      ]
    },
    {
      "cell_type": "code",
      "metadata": {
        "id": "4LxuTNcW2IgY",
        "colab": {
          "base_uri": "https://localhost:8080/",
          "height": 488
        },
        "outputId": "4bc83a16-ef05-49a9-a38f-174c04a126cb"
      },
      "source": [
        "# Loading our population by districtdataset from the respective CSV file\n",
        "\n",
        "with open('population_by_district.csv','r') as f:\n",
        "    population = pd.read_csv(f, index_col=0, encoding='utf-8')\n",
        "%sql DROP TABLE if EXISTS population;\n",
        "%sql PERSIST population;\n",
        "%sql SELECT * FROM population LIMIT 5;"
      ],
      "execution_count": 5,
      "outputs": [
        {
          "output_type": "stream",
          "text": [
            " * sqlite://\n",
            "Done.\n",
            " * sqlite://\n",
            " * sqlite://\n",
            "Done.\n"
          ],
          "name": "stdout"
        },
        {
          "output_type": "execute_result",
          "data": {
            "text/html": [
              "<table>\n",
              "    <thead>\n",
              "        <tr>\n",
              "            <th>District</th>\n",
              "            <th>rural/urban</th>\n",
              "            <th>Male</th>\n",
              "            <th>Female</th>\n",
              "            <th>Total</th>\n",
              "            <th>Households</th>\n",
              "            <th>Area_in_Sq_Km</th>\n",
              "            <th>_Household_Density_</th>\n",
              "            <th>Population_Density</th>\n",
              "            <th>Gender_Index</th>\n",
              "            <th>County</th>\n",
              "            <th>Location</th>\n",
              "            <th>Location_1</th>\n",
              "            <th>Province</th>\n",
              "            <th>OBJECTID</th>\n",
              "        </tr>\n",
              "    </thead>\n",
              "    <tbody>\n",
              "        <tr>\n",
              "            <td>NAIROBI WEST</td>\n",
              "            <td>Rural</td>\n",
              "            <td>0</td>\n",
              "            <td>0</td>\n",
              "            <td>0</td>\n",
              "            <td>0</td>\n",
              "            <td>0.0</td>\n",
              "            <td>None</td>\n",
              "            <td>None</td>\n",
              "            <td>None</td>\n",
              "            <td>NAIROBI</td>\n",
              "            <td>NAIROBI WEST, NAIROBI Kenya<br></td>\n",
              "            <td>None</td>\n",
              "            <td>36.79920201</td>\n",
              "            <td>0</td>\n",
              "        </tr>\n",
              "        <tr>\n",
              "            <td>NAIROBI EAST</td>\n",
              "            <td>Rural</td>\n",
              "            <td>0</td>\n",
              "            <td>0</td>\n",
              "            <td>0</td>\n",
              "            <td>0</td>\n",
              "            <td>0.0</td>\n",
              "            <td>None</td>\n",
              "            <td>None</td>\n",
              "            <td>None</td>\n",
              "            <td>NAIROBI</td>\n",
              "            <td>NAIROBI EAST, NAIROBI Kenya<br></td>\n",
              "            <td>None</td>\n",
              "            <td>36.967484000000006</td>\n",
              "            <td>1</td>\n",
              "        </tr>\n",
              "        <tr>\n",
              "            <td>NAIROBI NORTH</td>\n",
              "            <td>Rural</td>\n",
              "            <td>0</td>\n",
              "            <td>0</td>\n",
              "            <td>0</td>\n",
              "            <td>0</td>\n",
              "            <td>0.0</td>\n",
              "            <td>None</td>\n",
              "            <td>None</td>\n",
              "            <td>None</td>\n",
              "            <td>NAIROBI</td>\n",
              "            <td>NAIROBI NORTH, NAIROBI Kenya<br></td>\n",
              "            <td>None</td>\n",
              "            <td>36.8911257</td>\n",
              "            <td>2</td>\n",
              "        </tr>\n",
              "        <tr>\n",
              "            <td>WESTLANDS</td>\n",
              "            <td>Rural</td>\n",
              "            <td>0</td>\n",
              "            <td>0</td>\n",
              "            <td>0</td>\n",
              "            <td>0</td>\n",
              "            <td>0.0</td>\n",
              "            <td>None</td>\n",
              "            <td>None</td>\n",
              "            <td>None</td>\n",
              "            <td>NAIROBI</td>\n",
              "            <td>WESTLANDS, NAIROBI Kenya<br></td>\n",
              "            <td>None</td>\n",
              "            <td>36.7882561</td>\n",
              "            <td>3</td>\n",
              "        </tr>\n",
              "        <tr>\n",
              "            <td>NYANDARUA NORTH</td>\n",
              "            <td>Rural</td>\n",
              "            <td>106111</td>\n",
              "            <td>109785</td>\n",
              "            <td>215896</td>\n",
              "            <td>52503</td>\n",
              "            <td>1394.69</td>\n",
              "            <td>37.64</td>\n",
              "            <td>109861.0821</td>\n",
              "            <td>1.034624</td>\n",
              "            <td>CENTRAL</td>\n",
              "            <td>NYANDARUA NORTH, CENTRAL Kenya<br></td>\n",
              "            <td>None</td>\n",
              "            <td>36.42343108</td>\n",
              "            <td>4</td>\n",
              "        </tr>\n",
              "    </tbody>\n",
              "</table>"
            ],
            "text/plain": [
              "[('NAIROBI WEST', 'Rural', 0, 0, 0, 0, 0.0, None, None, None, 'NAIROBI', 'NAIROBI WEST, NAIROBI Kenya\\n', None, 36.79920201, 0),\n",
              " ('NAIROBI EAST', 'Rural', 0, 0, 0, 0, 0.0, None, None, None, 'NAIROBI', 'NAIROBI EAST, NAIROBI Kenya\\n', None, 36.967484000000006, 1),\n",
              " ('NAIROBI NORTH', 'Rural', 0, 0, 0, 0, 0.0, None, None, None, 'NAIROBI', 'NAIROBI NORTH, NAIROBI Kenya\\n', None, 36.8911257, 2),\n",
              " ('WESTLANDS', 'Rural', 0, 0, 0, 0, 0.0, None, None, None, 'NAIROBI', 'WESTLANDS, NAIROBI Kenya\\n', None, 36.7882561, 3),\n",
              " ('NYANDARUA NORTH', 'Rural', 106111, 109785, 215896, 52503, 1394.69, 37.64, 109861.0821, 1.034624, 'CENTRAL', 'NYANDARUA NORTH, CENTRAL Kenya\\n', None, 36.42343108, 4)]"
            ]
          },
          "metadata": {
            "tags": []
          },
          "execution_count": 5
        }
      ]
    },
    {
      "cell_type": "code",
      "metadata": {
        "id": "A31Y9nJFGW1o",
        "colab": {
          "base_uri": "https://localhost:8080/",
          "height": 335
        },
        "outputId": "36a47fcd-a50a-4dde-fa32-b923a2b91f13"
      },
      "source": [
        "# Loading our visitors to kenya dataset from the respective CSV file\n",
        "\n",
        "with open('visitors_to_kenya.csv','r') as f:\n",
        "    visitors = pd.read_csv(f, index_col=0, encoding='utf-8')\n",
        "%sql DROP TABLE if EXISTS visitors;\n",
        "%sql PERSIST visitors;\n",
        "%sql SELECT * FROM visitors LIMIT 5;"
      ],
      "execution_count": 6,
      "outputs": [
        {
          "output_type": "stream",
          "text": [
            " * sqlite://\n",
            "Done.\n",
            " * sqlite://\n",
            " * sqlite://\n",
            "Done.\n"
          ],
          "name": "stdout"
        },
        {
          "output_type": "execute_result",
          "data": {
            "text/html": [
              "<table>\n",
              "    <thead>\n",
              "        <tr>\n",
              "            <th>Arrival_or_Departure</th>\n",
              "            <th>Date_End_of_Quater</th>\n",
              "            <th>Year_Text</th>\n",
              "            <th>No_of_Visitors_to_Kenya</th>\n",
              "            <th>Visitors_by_Purpose</th>\n",
              "            <th>Period_Quater</th>\n",
              "            <th>Results_Status</th>\n",
              "            <th>OBJECTID</th>\n",
              "        </tr>\n",
              "    </thead>\n",
              "    <tbody>\n",
              "        <tr>\n",
              "            <td>Arrivals</td>\n",
              "            <td>03/31/2005 12:00:00 AM</td>\n",
              "            <td>2005</td>\n",
              "            <td>264600</td>\n",
              "            <td>Visitors on Holiday</td>\n",
              "            <td>Q1</td>\n",
              "            <td>Actual</td>\n",
              "            <td>0</td>\n",
              "        </tr>\n",
              "        <tr>\n",
              "            <td>Arrivals</td>\n",
              "            <td>06/30/1991 12:00:00 AM</td>\n",
              "            <td>1991</td>\n",
              "            <td>149400</td>\n",
              "            <td>Visitors on Holiday</td>\n",
              "            <td>Q2</td>\n",
              "            <td>Actual</td>\n",
              "            <td>1</td>\n",
              "        </tr>\n",
              "        <tr>\n",
              "            <td>Arrivals</td>\n",
              "            <td>09/30/1991 12:00:00 AM</td>\n",
              "            <td>1991</td>\n",
              "            <td>215900</td>\n",
              "            <td>Visitors on Holiday</td>\n",
              "            <td>Q3</td>\n",
              "            <td>Actual</td>\n",
              "            <td>2</td>\n",
              "        </tr>\n",
              "        <tr>\n",
              "            <td>Arrivals</td>\n",
              "            <td>12/31/1991 12:00:00 AM</td>\n",
              "            <td>1991</td>\n",
              "            <td>158400</td>\n",
              "            <td>Visitors on Holiday</td>\n",
              "            <td>Q4</td>\n",
              "            <td>Actual</td>\n",
              "            <td>3</td>\n",
              "        </tr>\n",
              "        <tr>\n",
              "            <td>Arrivals</td>\n",
              "            <td>03/31/1992 12:00:00 AM</td>\n",
              "            <td>1992</td>\n",
              "            <td>155400</td>\n",
              "            <td>Visitors on Holiday</td>\n",
              "            <td>Q1</td>\n",
              "            <td>Actual</td>\n",
              "            <td>4</td>\n",
              "        </tr>\n",
              "    </tbody>\n",
              "</table>"
            ],
            "text/plain": [
              "[('Arrivals', '03/31/2005 12:00:00 AM', '2005', 264600, 'Visitors on Holiday', 'Q1', 'Actual', 0),\n",
              " ('Arrivals', '06/30/1991 12:00:00 AM', '1991', 149400, 'Visitors on Holiday', 'Q2', 'Actual', 1),\n",
              " ('Arrivals', '09/30/1991 12:00:00 AM', '1991', 215900, 'Visitors on Holiday', 'Q3', 'Actual', 2),\n",
              " ('Arrivals', '12/31/1991 12:00:00 AM', '1991', 158400, 'Visitors on Holiday', 'Q4', 'Actual', 3),\n",
              " ('Arrivals', '03/31/1992 12:00:00 AM', '1992', 155400, 'Visitors on Holiday', 'Q1', 'Actual', 4)]"
            ]
          },
          "metadata": {
            "tags": []
          },
          "execution_count": 6
        }
      ]
    },
    {
      "cell_type": "code",
      "metadata": {
        "id": "oQlC_rF6vkAt",
        "colab": {
          "base_uri": "https://localhost:8080/",
          "height": 369
        },
        "outputId": "90fc8ad8-48b6-4146-b0a6-e4e07443f6f9"
      },
      "source": [
        "# Loading our marathon dataset from the respective CSV file\n",
        "#\n",
        "with open('marathon_results_2016.csv','r') as f:\n",
        "    marathon = pd.read_csv(f, index_col=0, encoding='utf-8')\n",
        "%sql DROP TABLE if EXISTS marathon;\n",
        "%sql PERSIST marathon;\n",
        "%sql SELECT * FROM marathon LIMIT 5;"
      ],
      "execution_count": 9,
      "outputs": [
        {
          "output_type": "stream",
          "text": [
            " * sqlite://\n",
            "Done.\n",
            " * sqlite://\n",
            " * sqlite://\n",
            "Done.\n"
          ],
          "name": "stdout"
        },
        {
          "output_type": "execute_result",
          "data": {
            "text/html": [
              "<table>\n",
              "    <thead>\n",
              "        <tr>\n",
              "            <th>Bib</th>\n",
              "            <th>Name</th>\n",
              "            <th>Age</th>\n",
              "            <th>M/F</th>\n",
              "            <th>City</th>\n",
              "            <th>State</th>\n",
              "            <th>Country</th>\n",
              "            <th>Citizen</th>\n",
              "            <th>Unnamed: 8</th>\n",
              "            <th>5K</th>\n",
              "            <th>10K</th>\n",
              "            <th>15K</th>\n",
              "            <th>20K</th>\n",
              "            <th>Half</th>\n",
              "            <th>25K</th>\n",
              "            <th>30K</th>\n",
              "            <th>35K</th>\n",
              "            <th>40K</th>\n",
              "            <th>Pace</th>\n",
              "            <th>Proj Time</th>\n",
              "            <th>Official Time</th>\n",
              "            <th>Overall</th>\n",
              "            <th>Gender</th>\n",
              "            <th>Division</th>\n",
              "        </tr>\n",
              "    </thead>\n",
              "    <tbody>\n",
              "        <tr>\n",
              "            <td>5</td>\n",
              "            <td>Hayle, Lemi Berhanu</td>\n",
              "            <td>21</td>\n",
              "            <td>M</td>\n",
              "            <td>Addis Ababa</td>\n",
              "            <td>None</td>\n",
              "            <td>ETH</td>\n",
              "            <td>None</td>\n",
              "            <td>None</td>\n",
              "            <td>0:15:47</td>\n",
              "            <td>0:31:20</td>\n",
              "            <td>0:47:07</td>\n",
              "            <td>1:03:14</td>\n",
              "            <td>1:06:45</td>\n",
              "            <td>1:19:15</td>\n",
              "            <td>1:34:17</td>\n",
              "            <td>1:50:24</td>\n",
              "            <td>2:05:59</td>\n",
              "            <td>0:05:04</td>\n",
              "            <td>2:12:45</td>\n",
              "            <td>2:12:45</td>\n",
              "            <td>1</td>\n",
              "            <td>1</td>\n",
              "            <td>1</td>\n",
              "        </tr>\n",
              "        <tr>\n",
              "            <td>1</td>\n",
              "            <td>Desisa, Lelisa</td>\n",
              "            <td>26</td>\n",
              "            <td>M</td>\n",
              "            <td>Ambo</td>\n",
              "            <td>None</td>\n",
              "            <td>ETH</td>\n",
              "            <td>None</td>\n",
              "            <td>None</td>\n",
              "            <td>0:15:47</td>\n",
              "            <td>0:31:21</td>\n",
              "            <td>0:47:08</td>\n",
              "            <td>1:03:14</td>\n",
              "            <td>1:06:46</td>\n",
              "            <td>1:19:15</td>\n",
              "            <td>1:34:17</td>\n",
              "            <td>1:50:24</td>\n",
              "            <td>2:05:59</td>\n",
              "            <td>0:05:06</td>\n",
              "            <td>2:13:32</td>\n",
              "            <td>2:13:32</td>\n",
              "            <td>2</td>\n",
              "            <td>2</td>\n",
              "            <td>2</td>\n",
              "        </tr>\n",
              "        <tr>\n",
              "            <td>6</td>\n",
              "            <td>Tsegay, Yemane Adhane</td>\n",
              "            <td>31</td>\n",
              "            <td>M</td>\n",
              "            <td>Addis Ababa</td>\n",
              "            <td>None</td>\n",
              "            <td>ETH</td>\n",
              "            <td>None</td>\n",
              "            <td>None</td>\n",
              "            <td>0:15:46</td>\n",
              "            <td>0:31:20</td>\n",
              "            <td>0:47:07</td>\n",
              "            <td>1:03:13</td>\n",
              "            <td>1:06:44</td>\n",
              "            <td>1:19:15</td>\n",
              "            <td>1:34:45</td>\n",
              "            <td>1:50:48</td>\n",
              "            <td>2:06:47</td>\n",
              "            <td>0:05:07</td>\n",
              "            <td>2:14:02</td>\n",
              "            <td>2:14:02</td>\n",
              "            <td>3</td>\n",
              "            <td>3</td>\n",
              "            <td>3</td>\n",
              "        </tr>\n",
              "        <tr>\n",
              "            <td>11</td>\n",
              "            <td>Korir, Wesley</td>\n",
              "            <td>33</td>\n",
              "            <td>M</td>\n",
              "            <td>Kitale</td>\n",
              "            <td>None</td>\n",
              "            <td>KEN</td>\n",
              "            <td>None</td>\n",
              "            <td>None</td>\n",
              "            <td>0:15:46</td>\n",
              "            <td>0:31:21</td>\n",
              "            <td>0:47:07</td>\n",
              "            <td>1:03:14</td>\n",
              "            <td>1:06:46</td>\n",
              "            <td>1:19:16</td>\n",
              "            <td>1:34:45</td>\n",
              "            <td>1:50:48</td>\n",
              "            <td>2:06:47</td>\n",
              "            <td>0:05:07</td>\n",
              "            <td>2:14:05</td>\n",
              "            <td>2:14:05</td>\n",
              "            <td>4</td>\n",
              "            <td>4</td>\n",
              "            <td>4</td>\n",
              "        </tr>\n",
              "        <tr>\n",
              "            <td>14</td>\n",
              "            <td>Lonyangata, Paul</td>\n",
              "            <td>23</td>\n",
              "            <td>M</td>\n",
              "            <td>Eldoret</td>\n",
              "            <td>None</td>\n",
              "            <td>KEN</td>\n",
              "            <td>None</td>\n",
              "            <td>None</td>\n",
              "            <td>0:15:46</td>\n",
              "            <td>0:31:21</td>\n",
              "            <td>0:47:08</td>\n",
              "            <td>1:03:14</td>\n",
              "            <td>1:06:46</td>\n",
              "            <td>1:19:18</td>\n",
              "            <td>1:34:46</td>\n",
              "            <td>1:51:30</td>\n",
              "            <td>2:08:11</td>\n",
              "            <td>0:05:11</td>\n",
              "            <td>2:15:45</td>\n",
              "            <td>2:15:45</td>\n",
              "            <td>5</td>\n",
              "            <td>5</td>\n",
              "            <td>5</td>\n",
              "        </tr>\n",
              "    </tbody>\n",
              "</table>"
            ],
            "text/plain": [
              "[('5', 'Hayle, Lemi Berhanu', 21, 'M', 'Addis Ababa', None, 'ETH', None, None, '0:15:47', '0:31:20', '0:47:07', '1:03:14', '1:06:45', '1:19:15', '1:34:17', '1:50:24', '2:05:59', '0:05:04', '2:12:45', '2:12:45', 1, 1, 1),\n",
              " ('1', 'Desisa, Lelisa', 26, 'M', 'Ambo', None, 'ETH', None, None, '0:15:47', '0:31:21', '0:47:08', '1:03:14', '1:06:46', '1:19:15', '1:34:17', '1:50:24', '2:05:59', '0:05:06', '2:13:32', '2:13:32', 2, 2, 2),\n",
              " ('6', 'Tsegay, Yemane Adhane', 31, 'M', 'Addis Ababa', None, 'ETH', None, None, '0:15:46', '0:31:20', '0:47:07', '1:03:13', '1:06:44', '1:19:15', '1:34:45', '1:50:48', '2:06:47', '0:05:07', '2:14:02', '2:14:02', 3, 3, 3),\n",
              " ('11', 'Korir, Wesley', 33, 'M', 'Kitale', None, 'KEN', None, None, '0:15:46', '0:31:21', '0:47:07', '1:03:14', '1:06:46', '1:19:16', '1:34:45', '1:50:48', '2:06:47', '0:05:07', '2:14:05', '2:14:05', 4, 4, 4),\n",
              " ('14', 'Lonyangata, Paul', 23, 'M', 'Eldoret', None, 'KEN', None, None, '0:15:46', '0:31:21', '0:47:08', '1:03:14', '1:06:46', '1:19:18', '1:34:46', '1:51:30', '2:08:11', '0:05:11', '2:15:45', '2:15:45', 5, 5, 5)]"
            ]
          },
          "metadata": {
            "tags": []
          },
          "execution_count": 9
        }
      ]
    },
    {
      "cell_type": "code",
      "metadata": {
        "id": "NGeUQqRMLQU7",
        "colab": {
          "base_uri": "https://localhost:8080/",
          "height": 471
        },
        "outputId": "bc306cf1-e3be-48a0-82be-e29f9b9ce783"
      },
      "source": [
        "# Loading our Kenyan government appointments dataset below\n",
        "#\n",
        "with open('government_appointments.csv','r') as f:\n",
        "    appointment = pd.read_csv(f, index_col=0, encoding='utf-8')\n",
        "%sql DROP TABLE if EXISTS appointment;\n",
        "%sql PERSIST appointment;\n",
        "%sql SELECT * FROM appointment LIMIT 5;"
      ],
      "execution_count": 10,
      "outputs": [
        {
          "output_type": "stream",
          "text": [
            " * sqlite://\n",
            "Done.\n",
            " * sqlite://\n",
            " * sqlite://\n",
            "Done.\n"
          ],
          "name": "stdout"
        },
        {
          "output_type": "execute_result",
          "data": {
            "text/html": [
              "<table>\n",
              "    <thead>\n",
              "        <tr>\n",
              "            <th>GAZETTE_NOTICE_NO_</th>\n",
              "            <th>Year</th>\n",
              "            <th>ACT</th>\n",
              "            <th>Cap</th>\n",
              "            <th>Persons_Appointed_</th>\n",
              "            <th>Position_</th>\n",
              "            <th>Date_Appointed_</th>\n",
              "            <th>Start_Date</th>\n",
              "            <th>End_Date</th>\n",
              "            <th>Person_Appointing_</th>\n",
              "            <th>Apointers_Position</th>\n",
              "            <th>Ministry</th>\n",
              "            <th>Parastatle_Appointed_to_</th>\n",
              "            <th>Duration_Months</th>\n",
              "            <th>Status</th>\n",
              "            <th>Gender</th>\n",
              "            <th>Original_GN</th>\n",
              "            <th>Original_GN_Year</th>\n",
              "            <th>OBJECTID</th>\n",
              "        </tr>\n",
              "    </thead>\n",
              "    <tbody>\n",
              "        <tr>\n",
              "            <td>2827</td>\n",
              "            <td>01/01/2015 12:00:00 AM</td>\n",
              "            <td>The State Corporations Act</td>\n",
              "            <td>446.0</td>\n",
              "            <td>Gershom Otachi</td>\n",
              "            <td>Chairperson</td>\n",
              "            <td>04/17/2015 12:00:00 AM</td>\n",
              "            <td>05/20/2015 12:00:00 AM</td>\n",
              "            <td>None</td>\n",
              "            <td>Uhuru Kenyatta</td>\n",
              "            <td>President</td>\n",
              "            <td>None</td>\n",
              "            <td>Geothermal Development Company</td>\n",
              "            <td>36.0</td>\n",
              "            <td>Appointed </td>\n",
              "            <td>m</td>\n",
              "            <td>None</td>\n",
              "            <td>None</td>\n",
              "            <td>0</td>\n",
              "        </tr>\n",
              "        <tr>\n",
              "            <td>2828</td>\n",
              "            <td>01/01/2015 12:00:00 AM</td>\n",
              "            <td>The State Corporations Act</td>\n",
              "            <td>446.0</td>\n",
              "            <td>Sammy Choge</td>\n",
              "            <td>Chairperson</td>\n",
              "            <td>04/17/2015 12:00:00 AM</td>\n",
              "            <td>04/17/2015 12:00:00 AM</td>\n",
              "            <td>None</td>\n",
              "            <td>Uhuru Kenyatta</td>\n",
              "            <td>President</td>\n",
              "            <td>None</td>\n",
              "            <td>Chemelil Sugar Company</td>\n",
              "            <td>36.0</td>\n",
              "            <td>Appointed </td>\n",
              "            <td>m</td>\n",
              "            <td>None</td>\n",
              "            <td>None</td>\n",
              "            <td>1</td>\n",
              "        </tr>\n",
              "        <tr>\n",
              "            <td>2829</td>\n",
              "            <td>01/01/2015 12:00:00 AM</td>\n",
              "            <td>Agricultural Development Corporation Act</td>\n",
              "            <td>444.0</td>\n",
              "            <td>Musa Sirma</td>\n",
              "            <td>Member of the Board</td>\n",
              "            <td>04/17/2015 12:00:00 AM</td>\n",
              "            <td>04/17/2015 12:00:00 AM</td>\n",
              "            <td>None</td>\n",
              "            <td>Uhuru Kenyatta</td>\n",
              "            <td>President</td>\n",
              "            <td>None</td>\n",
              "            <td>Agricultural Development Corporation</td>\n",
              "            <td>36.0</td>\n",
              "            <td>Appointed </td>\n",
              "            <td>m</td>\n",
              "            <td>None</td>\n",
              "            <td>None</td>\n",
              "            <td>2</td>\n",
              "        </tr>\n",
              "        <tr>\n",
              "            <td>2829</td>\n",
              "            <td>01/01/2015 12:00:00 AM</td>\n",
              "            <td>Agricultural Development Corporation Act</td>\n",
              "            <td>444.0</td>\n",
              "            <td>Susan Akinyi Wakiaga</td>\n",
              "            <td>Member of the Board</td>\n",
              "            <td>04/17/2015 12:00:00 AM</td>\n",
              "            <td>04/17/2015 12:00:00 AM</td>\n",
              "            <td>None</td>\n",
              "            <td>Uhuru Kenyatta</td>\n",
              "            <td>President</td>\n",
              "            <td>None</td>\n",
              "            <td>Agricultural Development Corporation</td>\n",
              "            <td>36.0</td>\n",
              "            <td>Appointed </td>\n",
              "            <td>f</td>\n",
              "            <td>None</td>\n",
              "            <td>None</td>\n",
              "            <td>3</td>\n",
              "        </tr>\n",
              "        <tr>\n",
              "            <td>2829</td>\n",
              "            <td>01/01/2015 12:00:00 AM</td>\n",
              "            <td>Agricultural Development Corporation Act</td>\n",
              "            <td>444.0</td>\n",
              "            <td>Joseph Miriti Mwereria</td>\n",
              "            <td>Member of the Board</td>\n",
              "            <td>04/17/2015 12:00:00 AM</td>\n",
              "            <td>04/17/2015 12:00:00 AM</td>\n",
              "            <td>None</td>\n",
              "            <td>Uhuru Kenyatta</td>\n",
              "            <td>President</td>\n",
              "            <td>None</td>\n",
              "            <td>Agricultural Development Corporation</td>\n",
              "            <td>36.0</td>\n",
              "            <td>Appointed </td>\n",
              "            <td>m</td>\n",
              "            <td>None</td>\n",
              "            <td>None</td>\n",
              "            <td>4</td>\n",
              "        </tr>\n",
              "    </tbody>\n",
              "</table>"
            ],
            "text/plain": [
              "[(2827, '01/01/2015 12:00:00 AM', 'The State Corporations Act', 446.0, 'Gershom Otachi', 'Chairperson', '04/17/2015 12:00:00 AM', '05/20/2015 12:00:00 AM', None, 'Uhuru Kenyatta', 'President', None, 'Geothermal Development Company', 36.0, 'Appointed ', 'm', None, None, 0),\n",
              " (2828, '01/01/2015 12:00:00 AM', 'The State Corporations Act', 446.0, 'Sammy Choge', 'Chairperson', '04/17/2015 12:00:00 AM', '04/17/2015 12:00:00 AM', None, 'Uhuru Kenyatta', 'President', None, 'Chemelil Sugar Company', 36.0, 'Appointed ', 'm', None, None, 1),\n",
              " (2829, '01/01/2015 12:00:00 AM', 'Agricultural Development Corporation Act', 444.0, 'Musa Sirma', 'Member of the Board', '04/17/2015 12:00:00 AM', '04/17/2015 12:00:00 AM', None, 'Uhuru Kenyatta', 'President', None, 'Agricultural Development Corporation', 36.0, 'Appointed ', 'm', None, None, 2),\n",
              " (2829, '01/01/2015 12:00:00 AM', 'Agricultural Development Corporation Act', 444.0, 'Susan Akinyi Wakiaga', 'Member of the Board', '04/17/2015 12:00:00 AM', '04/17/2015 12:00:00 AM', None, 'Uhuru Kenyatta', 'President', None, 'Agricultural Development Corporation', 36.0, 'Appointed ', 'f', None, None, 3),\n",
              " (2829, '01/01/2015 12:00:00 AM', 'Agricultural Development Corporation Act', 444.0, 'Joseph Miriti Mwereria', 'Member of the Board', '04/17/2015 12:00:00 AM', '04/17/2015 12:00:00 AM', None, 'Uhuru Kenyatta', 'President', None, 'Agricultural Development Corporation', 36.0, 'Appointed ', 'm', None, None, 4)]"
            ]
          },
          "metadata": {
            "tags": []
          },
          "execution_count": 10
        }
      ]
    },
    {
      "cell_type": "code",
      "metadata": {
        "id": "OdYR80CuMbFD",
        "colab": {
          "base_uri": "https://localhost:8080/",
          "height": 230
        },
        "outputId": "c4fafe9e-c625-4724-96c5-086ed9a23508"
      },
      "source": [
        "# Loading our Tea dataset below\n",
        "#\n",
        "with open('tea_production.csv','r') as f:\n",
        "    tea = pd.read_csv(f, index_col=0, encoding='utf-8')\n",
        "%sql DROP TABLE if EXISTS tea;\n",
        "%sql PERSIST tea;\n",
        "%sql SELECT * FROM tea LIMIT 5;"
      ],
      "execution_count": 11,
      "outputs": [
        {
          "output_type": "stream",
          "text": [
            " * sqlite://\n",
            "Done.\n",
            " * sqlite://\n",
            " * sqlite://\n",
            "Done.\n"
          ],
          "name": "stdout"
        },
        {
          "output_type": "execute_result",
          "data": {
            "text/html": [
              "<table>\n",
              "    <thead>\n",
              "        <tr>\n",
              "            <th>Activity_in_Tea_Sector</th>\n",
              "            <th>Millions_in_KGS_</th>\n",
              "            <th>Date</th>\n",
              "            <th>OBJECTID</th>\n",
              "        </tr>\n",
              "    </thead>\n",
              "    <tbody>\n",
              "        <tr>\n",
              "            <td>Production</td>\n",
              "            <td>32.8</td>\n",
              "            <td>01/25/2003 12:00:00 AM</td>\n",
              "            <td>0</td>\n",
              "        </tr>\n",
              "        <tr>\n",
              "            <td>Production</td>\n",
              "            <td>23.6</td>\n",
              "            <td>02/25/2003 12:00:00 AM</td>\n",
              "            <td>1</td>\n",
              "        </tr>\n",
              "        <tr>\n",
              "            <td>Production</td>\n",
              "            <td>15.0</td>\n",
              "            <td>03/25/2003 12:00:00 AM</td>\n",
              "            <td>2</td>\n",
              "        </tr>\n",
              "        <tr>\n",
              "            <td>Production</td>\n",
              "            <td>19.3</td>\n",
              "            <td>04/25/2003 12:00:00 AM</td>\n",
              "            <td>3</td>\n",
              "        </tr>\n",
              "        <tr>\n",
              "            <td>Production</td>\n",
              "            <td>26.0</td>\n",
              "            <td>05/25/2003 12:00:00 AM</td>\n",
              "            <td>4</td>\n",
              "        </tr>\n",
              "    </tbody>\n",
              "</table>"
            ],
            "text/plain": [
              "[('Production', 32.8, '01/25/2003 12:00:00 AM', 0),\n",
              " ('Production', 23.6, '02/25/2003 12:00:00 AM', 1),\n",
              " ('Production', 15.0, '03/25/2003 12:00:00 AM', 2),\n",
              " ('Production', 19.3, '04/25/2003 12:00:00 AM', 3),\n",
              " ('Production', 26.0, '05/25/2003 12:00:00 AM', 4)]"
            ]
          },
          "metadata": {
            "tags": []
          },
          "execution_count": 11
        }
      ]
    },
    {
      "cell_type": "markdown",
      "metadata": {
        "id": "hZMiwaprbFRD"
      },
      "source": [
        "## 1.2 Text Strings"
      ]
    },
    {
      "cell_type": "code",
      "metadata": {
        "id": "_u1m-FQnbh7H",
        "colab": {
          "base_uri": "https://localhost:8080/",
          "height": 264
        },
        "outputId": "cf50b6f6-a5de-4879-eb79-0dd775ac14da"
      },
      "source": [
        "# Example 1\n",
        "# Using the EnergyMining dataset, we can concatenate (combine) \n",
        "# the Ward and County columns (i.e attributes)\n",
        "# into a new column Region. Then only select 5 of those regions\n",
        "#\n",
        "%%sql  \n",
        "SELECT *, WARD || ', ' || COUNTY AS Region\n",
        "FROM energy LIMIT 5 ;"
      ],
      "execution_count": 12,
      "outputs": [
        {
          "output_type": "stream",
          "text": [
            " * sqlite://\n",
            "Done.\n"
          ],
          "name": "stdout"
        },
        {
          "output_type": "execute_result",
          "data": {
            "text/html": [
              "<table>\n",
              "    <thead>\n",
              "        <tr>\n",
              "            <th>COUNTY</th>\n",
              "            <th>WARD</th>\n",
              "            <th>ZONE</th>\n",
              "            <th>PROJECT_NAME</th>\n",
              "            <th>STATUS</th>\n",
              "            <th>DATE</th>\n",
              "            <th>OBJECTID</th>\n",
              "            <th>Region</th>\n",
              "        </tr>\n",
              "    </thead>\n",
              "    <tbody>\n",
              "        <tr>\n",
              "            <td>Kisumu</td>\n",
              "            <td>West Kisumu</td>\n",
              "            <td>Huma market</td>\n",
              "            <td>Supply, installation &amp; commissioning of 8 No. 30m High mast flood lights </td>\n",
              "            <td>100 % Complete</td>\n",
              "            <td>May-31-2015</td>\n",
              "            <td>0</td>\n",
              "            <td>West Kisumu, Kisumu</td>\n",
              "        </tr>\n",
              "        <tr>\n",
              "            <td>Kisumu</td>\n",
              "            <td>North west ksm</td>\n",
              "            <td>Daraja Mbili market</td>\n",
              "            <td>Supply, installation &amp; commissioning of 8 No. 30m High mast flood lights </td>\n",
              "            <td>100% Complete</td>\n",
              "            <td>May-31-2015</td>\n",
              "            <td>1</td>\n",
              "            <td>North west ksm, Kisumu</td>\n",
              "        </tr>\n",
              "        <tr>\n",
              "            <td>Kisumu</td>\n",
              "            <td>West Seme</td>\n",
              "            <td>Akado market </td>\n",
              "            <td>Supply, installation &amp; commissioning of 8 No. 30m High mast flood lights </td>\n",
              "            <td>100 % Complete</td>\n",
              "            <td>May-31-2015</td>\n",
              "            <td>2</td>\n",
              "            <td>West Seme, Kisumu</td>\n",
              "        </tr>\n",
              "        <tr>\n",
              "            <td>Kisumu</td>\n",
              "            <td>Kobura</td>\n",
              "            <td>Korowe market </td>\n",
              "            <td>Supply, installation &amp; commissioning of 8 No. 30m High mast flood lights </td>\n",
              "            <td>100 % Complete</td>\n",
              "            <td>May-31-2015</td>\n",
              "            <td>3</td>\n",
              "            <td>Kobura, Kisumu</td>\n",
              "        </tr>\n",
              "        <tr>\n",
              "            <td>Kisumu</td>\n",
              "            <td>Kobura</td>\n",
              "            <td>Rabour market </td>\n",
              "            <td>Supply, installation &amp; commissioning of 8 No. 30m High mast flood lights </td>\n",
              "            <td>100 % Complete</td>\n",
              "            <td>May-31-2015</td>\n",
              "            <td>4</td>\n",
              "            <td>Kobura, Kisumu</td>\n",
              "        </tr>\n",
              "    </tbody>\n",
              "</table>"
            ],
            "text/plain": [
              "[('Kisumu', 'West Kisumu', 'Huma market', 'Supply, installation & commissioning of 8 No. 30m High mast flood lights ', '100 % Complete', 'May-31-2015', 0, 'West Kisumu, Kisumu'),\n",
              " ('Kisumu', 'North west ksm', 'Daraja Mbili market', 'Supply, installation & commissioning of 8 No. 30m High mast flood lights ', '100% Complete', 'May-31-2015', 1, 'North west ksm, Kisumu'),\n",
              " ('Kisumu', 'West Seme', 'Akado market ', 'Supply, installation & commissioning of 8 No. 30m High mast flood lights ', '100 % Complete', 'May-31-2015', 2, 'West Seme, Kisumu'),\n",
              " ('Kisumu', 'Kobura', 'Korowe market ', 'Supply, installation & commissioning of 8 No. 30m High mast flood lights ', '100 % Complete', 'May-31-2015', 3, 'Kobura, Kisumu'),\n",
              " ('Kisumu', 'Kobura', 'Rabour market ', 'Supply, installation & commissioning of 8 No. 30m High mast flood lights ', '100 % Complete', 'May-31-2015', 4, 'Kobura, Kisumu')]"
            ]
          },
          "metadata": {
            "tags": []
          },
          "execution_count": 12
        }
      ]
    },
    {
      "cell_type": "code",
      "metadata": {
        "id": "Rk7JTCrZbhyD",
        "colab": {
          "base_uri": "https://localhost:8080/",
          "height": 179
        },
        "outputId": "1aa18344-df8f-408a-eccb-672c8fadad38"
      },
      "source": [
        "# Example 2\n",
        "# Using the main lighting dataset, we can also replace the null cells with 0\n",
        "# as shown below\n",
        "# \n",
        "%%sql \n",
        "SELECT PROJECT_NAME, REPLACE(\"STATUS\", '100 % Complete', '100%') AS \"Project Status\" \n",
        "FROM energy LIMIT 5;\n"
      ],
      "execution_count": 13,
      "outputs": [
        {
          "output_type": "stream",
          "text": [
            " * sqlite://\n",
            "Done.\n"
          ],
          "name": "stdout"
        },
        {
          "output_type": "execute_result",
          "data": {
            "text/html": [
              "<table>\n",
              "    <thead>\n",
              "        <tr>\n",
              "            <th>PROJECT_NAME</th>\n",
              "            <th>Project Status</th>\n",
              "        </tr>\n",
              "    </thead>\n",
              "    <tbody>\n",
              "        <tr>\n",
              "            <td>Supply, installation &amp; commissioning of 8 No. 30m High mast flood lights </td>\n",
              "            <td>100%</td>\n",
              "        </tr>\n",
              "        <tr>\n",
              "            <td>Supply, installation &amp; commissioning of 8 No. 30m High mast flood lights </td>\n",
              "            <td>100% Complete</td>\n",
              "        </tr>\n",
              "        <tr>\n",
              "            <td>Supply, installation &amp; commissioning of 8 No. 30m High mast flood lights </td>\n",
              "            <td>100%</td>\n",
              "        </tr>\n",
              "        <tr>\n",
              "            <td>Supply, installation &amp; commissioning of 8 No. 30m High mast flood lights </td>\n",
              "            <td>100%</td>\n",
              "        </tr>\n",
              "        <tr>\n",
              "            <td>Supply, installation &amp; commissioning of 8 No. 30m High mast flood lights </td>\n",
              "            <td>100%</td>\n",
              "        </tr>\n",
              "    </tbody>\n",
              "</table>"
            ],
            "text/plain": [
              "[('Supply, installation & commissioning of 8 No. 30m High mast flood lights ', '100%'),\n",
              " ('Supply, installation & commissioning of 8 No. 30m High mast flood lights ', '100% Complete'),\n",
              " ('Supply, installation & commissioning of 8 No. 30m High mast flood lights ', '100%'),\n",
              " ('Supply, installation & commissioning of 8 No. 30m High mast flood lights ', '100%'),\n",
              " ('Supply, installation & commissioning of 8 No. 30m High mast flood lights ', '100%')]"
            ]
          },
          "metadata": {
            "tags": []
          },
          "execution_count": 13
        }
      ]
    },
    {
      "cell_type": "code",
      "metadata": {
        "id": "mDr4BRmWbhpQ",
        "colab": {
          "base_uri": "https://localhost:8080/",
          "height": 598
        },
        "outputId": "5b2b5ab5-5b8a-4f4d-c5bf-29b2cfe20c57"
      },
      "source": [
        "# Example 3\n",
        "# Using the Population by District dataset, we change values of County column to lowercase \n",
        "# as shown below\n",
        "#\n",
        "%%sql\n",
        "SELECT *, LOWER(County) AS \"County Name\"\n",
        "FROM population LIMIT 7;"
      ],
      "execution_count": 14,
      "outputs": [
        {
          "output_type": "stream",
          "text": [
            " * sqlite://\n",
            "Done.\n"
          ],
          "name": "stdout"
        },
        {
          "output_type": "execute_result",
          "data": {
            "text/html": [
              "<table>\n",
              "    <thead>\n",
              "        <tr>\n",
              "            <th>District</th>\n",
              "            <th>rural/urban</th>\n",
              "            <th>Male</th>\n",
              "            <th>Female</th>\n",
              "            <th>Total</th>\n",
              "            <th>Households</th>\n",
              "            <th>Area_in_Sq_Km</th>\n",
              "            <th>_Household_Density_</th>\n",
              "            <th>Population_Density</th>\n",
              "            <th>Gender_Index</th>\n",
              "            <th>County</th>\n",
              "            <th>Location</th>\n",
              "            <th>Location_1</th>\n",
              "            <th>Province</th>\n",
              "            <th>OBJECTID</th>\n",
              "            <th>County Name</th>\n",
              "        </tr>\n",
              "    </thead>\n",
              "    <tbody>\n",
              "        <tr>\n",
              "            <td>NAIROBI WEST</td>\n",
              "            <td>Rural</td>\n",
              "            <td>0</td>\n",
              "            <td>0</td>\n",
              "            <td>0</td>\n",
              "            <td>0</td>\n",
              "            <td>0.0</td>\n",
              "            <td>None</td>\n",
              "            <td>None</td>\n",
              "            <td>None</td>\n",
              "            <td>NAIROBI</td>\n",
              "            <td>NAIROBI WEST, NAIROBI Kenya<br></td>\n",
              "            <td>None</td>\n",
              "            <td>36.79920201</td>\n",
              "            <td>0</td>\n",
              "            <td>nairobi</td>\n",
              "        </tr>\n",
              "        <tr>\n",
              "            <td>NAIROBI EAST</td>\n",
              "            <td>Rural</td>\n",
              "            <td>0</td>\n",
              "            <td>0</td>\n",
              "            <td>0</td>\n",
              "            <td>0</td>\n",
              "            <td>0.0</td>\n",
              "            <td>None</td>\n",
              "            <td>None</td>\n",
              "            <td>None</td>\n",
              "            <td>NAIROBI</td>\n",
              "            <td>NAIROBI EAST, NAIROBI Kenya<br></td>\n",
              "            <td>None</td>\n",
              "            <td>36.967484000000006</td>\n",
              "            <td>1</td>\n",
              "            <td>nairobi</td>\n",
              "        </tr>\n",
              "        <tr>\n",
              "            <td>NAIROBI NORTH</td>\n",
              "            <td>Rural</td>\n",
              "            <td>0</td>\n",
              "            <td>0</td>\n",
              "            <td>0</td>\n",
              "            <td>0</td>\n",
              "            <td>0.0</td>\n",
              "            <td>None</td>\n",
              "            <td>None</td>\n",
              "            <td>None</td>\n",
              "            <td>NAIROBI</td>\n",
              "            <td>NAIROBI NORTH, NAIROBI Kenya<br></td>\n",
              "            <td>None</td>\n",
              "            <td>36.8911257</td>\n",
              "            <td>2</td>\n",
              "            <td>nairobi</td>\n",
              "        </tr>\n",
              "        <tr>\n",
              "            <td>WESTLANDS</td>\n",
              "            <td>Rural</td>\n",
              "            <td>0</td>\n",
              "            <td>0</td>\n",
              "            <td>0</td>\n",
              "            <td>0</td>\n",
              "            <td>0.0</td>\n",
              "            <td>None</td>\n",
              "            <td>None</td>\n",
              "            <td>None</td>\n",
              "            <td>NAIROBI</td>\n",
              "            <td>WESTLANDS, NAIROBI Kenya<br></td>\n",
              "            <td>None</td>\n",
              "            <td>36.7882561</td>\n",
              "            <td>3</td>\n",
              "            <td>nairobi</td>\n",
              "        </tr>\n",
              "        <tr>\n",
              "            <td>NYANDARUA NORTH</td>\n",
              "            <td>Rural</td>\n",
              "            <td>106111</td>\n",
              "            <td>109785</td>\n",
              "            <td>215896</td>\n",
              "            <td>52503</td>\n",
              "            <td>1394.69</td>\n",
              "            <td>37.64</td>\n",
              "            <td>109861.0821</td>\n",
              "            <td>1.034624</td>\n",
              "            <td>CENTRAL</td>\n",
              "            <td>NYANDARUA NORTH, CENTRAL Kenya<br></td>\n",
              "            <td>None</td>\n",
              "            <td>36.42343108</td>\n",
              "            <td>4</td>\n",
              "            <td>central</td>\n",
              "        </tr>\n",
              "        <tr>\n",
              "            <td>NYANDARUA SOUTH</td>\n",
              "            <td>Rural</td>\n",
              "            <td>131872</td>\n",
              "            <td>137982</td>\n",
              "            <td>269854</td>\n",
              "            <td>61936</td>\n",
              "            <td>1472.58</td>\n",
              "            <td>42.06</td>\n",
              "            <td>138071.5517</td>\n",
              "            <td>1.046333</td>\n",
              "            <td>CENTRAL</td>\n",
              "            <td>NYANDARUA SOUTH, CENTRAL Kenya<br></td>\n",
              "            <td>None</td>\n",
              "            <td>36.55651343</td>\n",
              "            <td>5</td>\n",
              "            <td>central</td>\n",
              "        </tr>\n",
              "        <tr>\n",
              "            <td>NYERI NORTH</td>\n",
              "            <td>Rural</td>\n",
              "            <td>141423</td>\n",
              "            <td>143971</td>\n",
              "            <td>285394</td>\n",
              "            <td>81307</td>\n",
              "            <td>2253.47</td>\n",
              "            <td>36.08</td>\n",
              "            <td>144033.7579</td>\n",
              "            <td>1.018017</td>\n",
              "            <td>CENTRAL</td>\n",
              "            <td>NYERI NORTH, CENTRAL Kenya<br></td>\n",
              "            <td>None</td>\n",
              "            <td>36.9811441</td>\n",
              "            <td>6</td>\n",
              "            <td>central</td>\n",
              "        </tr>\n",
              "    </tbody>\n",
              "</table>"
            ],
            "text/plain": [
              "[('NAIROBI WEST', 'Rural', 0, 0, 0, 0, 0.0, None, None, None, 'NAIROBI', 'NAIROBI WEST, NAIROBI Kenya\\n', None, 36.79920201, 0, 'nairobi'),\n",
              " ('NAIROBI EAST', 'Rural', 0, 0, 0, 0, 0.0, None, None, None, 'NAIROBI', 'NAIROBI EAST, NAIROBI Kenya\\n', None, 36.967484000000006, 1, 'nairobi'),\n",
              " ('NAIROBI NORTH', 'Rural', 0, 0, 0, 0, 0.0, None, None, None, 'NAIROBI', 'NAIROBI NORTH, NAIROBI Kenya\\n', None, 36.8911257, 2, 'nairobi'),\n",
              " ('WESTLANDS', 'Rural', 0, 0, 0, 0, 0.0, None, None, None, 'NAIROBI', 'WESTLANDS, NAIROBI Kenya\\n', None, 36.7882561, 3, 'nairobi'),\n",
              " ('NYANDARUA NORTH', 'Rural', 106111, 109785, 215896, 52503, 1394.69, 37.64, 109861.0821, 1.034624, 'CENTRAL', 'NYANDARUA NORTH, CENTRAL Kenya\\n', None, 36.42343108, 4, 'central'),\n",
              " ('NYANDARUA SOUTH', 'Rural', 131872, 137982, 269854, 61936, 1472.58, 42.06, 138071.5517, 1.046333, 'CENTRAL', 'NYANDARUA SOUTH, CENTRAL Kenya\\n', None, 36.55651343, 5, 'central'),\n",
              " ('NYERI NORTH', 'Rural', 141423, 143971, 285394, 81307, 2253.47, 36.08, 144033.7579, 1.018017, 'CENTRAL', 'NYERI NORTH, CENTRAL Kenya\\n', None, 36.9811441, 6, 'central')]"
            ]
          },
          "metadata": {
            "tags": []
          },
          "execution_count": 14
        }
      ]
    },
    {
      "cell_type": "markdown",
      "metadata": {
        "id": "TUnOLEFCbk0o"
      },
      "source": [
        "### <font color=\"green\">1.2 Challenges</font>"
      ]
    },
    {
      "cell_type": "code",
      "metadata": {
        "id": "DInKcbjQb9lv",
        "colab": {
          "base_uri": "https://localhost:8080/"
        },
        "outputId": "2402bb11-cc97-4cfa-f010-e8eaca3b677a"
      },
      "source": [
        "# Challenge 1\n",
        "# Using the Governments appointments dataset, \n",
        "# in gender field, let's replace m = 1 and f = 0\n",
        "# \n",
        "%%sql\n",
        "SELECT Gender ,REPLACE (\"m\" , \"f\") AS (\"1\" , \"0\")\n",
        "FROM appointments LIMIT 7;"
      ],
      "execution_count": 15,
      "outputs": [
        {
          "output_type": "stream",
          "text": [
            " * sqlite://\n",
            "(sqlite3.OperationalError) near \"(\": syntax error\n",
            "[SQL: SELECT Gender ,REPLACE (\"m\" , \"f\") AS (\"1\" , \"0\")\n",
            "FROM appointments LIMIT 7;]\n",
            "(Background on this error at: http://sqlalche.me/e/14/e3q8)\n"
          ],
          "name": "stdout"
        }
      ]
    },
    {
      "cell_type": "code",
      "metadata": {
        "id": "Dmotlbe8b_xE"
      },
      "source": [
        "# Challenge 3\n",
        "# Using the Population by District dataset, \n",
        "# let's change the values of the District column to lowercase \n",
        "# and display these values in a new column \n",
        "# \n",
        "OUR CODE GOES HERE"
      ],
      "execution_count": null,
      "outputs": []
    },
    {
      "cell_type": "markdown",
      "metadata": {
        "id": "dyTun0GIbK67"
      },
      "source": [
        "## 1.3 Time Strings"
      ]
    },
    {
      "cell_type": "code",
      "metadata": {
        "id": "v45ZeTF8cFXq",
        "colab": {
          "base_uri": "https://localhost:8080/",
          "height": 473
        },
        "outputId": "4690e4d2-9281-4b9a-845f-54364b1426f7"
      },
      "source": [
        "# Example 1\n",
        "# You can work with time data just like any other kind of data type \n",
        "# when it is in the time format; HH:MM:SS\n",
        "# Let's answer some questions to see how this works\n",
        "# Question: Which athletes took time between 15.30 and 15.59 to pass the 5K mark?\n",
        "# NB: We order the results\n",
        "#\n",
        "%%sql \n",
        "SELECT Name, \"5K\" FROM Marathon\n",
        "WHERE \"5K\" > '0:15:30' and \"5K\" < '0:15:59' ORDER BY \"5K\" ASC;"
      ],
      "execution_count": 18,
      "outputs": [
        {
          "output_type": "stream",
          "text": [
            " * sqlite://\n",
            "Done.\n"
          ],
          "name": "stdout"
        },
        {
          "output_type": "execute_result",
          "data": {
            "text/html": [
              "<table>\n",
              "    <thead>\n",
              "        <tr>\n",
              "            <th>Name</th>\n",
              "            <th>5K</th>\n",
              "        </tr>\n",
              "    </thead>\n",
              "    <tbody>\n",
              "        <tr>\n",
              "            <td>Tsegay, Yemane Adhane</td>\n",
              "            <td>0:15:46</td>\n",
              "        </tr>\n",
              "        <tr>\n",
              "            <td>Korir, Wesley</td>\n",
              "            <td>0:15:46</td>\n",
              "        </tr>\n",
              "        <tr>\n",
              "            <td>Lonyangata, Paul</td>\n",
              "            <td>0:15:46</td>\n",
              "        </tr>\n",
              "        <tr>\n",
              "            <td>Kitwara, Sammy</td>\n",
              "            <td>0:15:46</td>\n",
              "        </tr>\n",
              "        <tr>\n",
              "            <td>Feleke, Getu</td>\n",
              "            <td>0:15:46</td>\n",
              "        </tr>\n",
              "        <tr>\n",
              "            <td>Mekonnen, Tsegaye</td>\n",
              "            <td>0:15:46</td>\n",
              "        </tr>\n",
              "        <tr>\n",
              "            <td>Kiprop, Jackson</td>\n",
              "            <td>0:15:46</td>\n",
              "        </tr>\n",
              "        <tr>\n",
              "            <td>Da Silva, Solonei</td>\n",
              "            <td>0:15:46</td>\n",
              "        </tr>\n",
              "        <tr>\n",
              "            <td>Hayle, Lemi Berhanu</td>\n",
              "            <td>0:15:47</td>\n",
              "        </tr>\n",
              "        <tr>\n",
              "            <td>Desisa, Lelisa</td>\n",
              "            <td>0:15:47</td>\n",
              "        </tr>\n",
              "        <tr>\n",
              "            <td>Chebogut, Stephen</td>\n",
              "            <td>0:15:47</td>\n",
              "        </tr>\n",
              "        <tr>\n",
              "            <td>Nageeye, Abdi</td>\n",
              "            <td>0:15:47</td>\n",
              "        </tr>\n",
              "        <tr>\n",
              "            <td>Nyasango, Cutbert</td>\n",
              "            <td>0:15:47</td>\n",
              "        </tr>\n",
              "        <tr>\n",
              "            <td>Kamijo, Norio</td>\n",
              "            <td>0:15:47</td>\n",
              "        </tr>\n",
              "        <tr>\n",
              "            <td>Kipyego, Michael</td>\n",
              "            <td>0:15:47</td>\n",
              "        </tr>\n",
              "        <tr>\n",
              "            <td>Sanabria, Alvaro</td>\n",
              "            <td>0:15:51</td>\n",
              "        </tr>\n",
              "        <tr>\n",
              "            <td>Okuti, Harbert</td>\n",
              "            <td>0:15:53</td>\n",
              "        </tr>\n",
              "        <tr>\n",
              "            <td>Burrell, Ian</td>\n",
              "            <td>0:15:54</td>\n",
              "        </tr>\n",
              "        <tr>\n",
              "            <td>Simpson, Jason M.</td>\n",
              "            <td>0:15:54</td>\n",
              "        </tr>\n",
              "    </tbody>\n",
              "</table>"
            ],
            "text/plain": [
              "[('Tsegay, Yemane Adhane', '0:15:46'),\n",
              " ('Korir, Wesley', '0:15:46'),\n",
              " ('Lonyangata, Paul', '0:15:46'),\n",
              " ('Kitwara, Sammy', '0:15:46'),\n",
              " ('Feleke, Getu', '0:15:46'),\n",
              " ('Mekonnen, Tsegaye', '0:15:46'),\n",
              " ('Kiprop, Jackson', '0:15:46'),\n",
              " ('Da Silva, Solonei', '0:15:46'),\n",
              " ('Hayle, Lemi Berhanu', '0:15:47'),\n",
              " ('Desisa, Lelisa', '0:15:47'),\n",
              " ('Chebogut, Stephen', '0:15:47'),\n",
              " ('Nageeye, Abdi', '0:15:47'),\n",
              " ('Nyasango, Cutbert', '0:15:47'),\n",
              " ('Kamijo, Norio', '0:15:47'),\n",
              " ('Kipyego, Michael', '0:15:47'),\n",
              " ('Sanabria, Alvaro', '0:15:51'),\n",
              " ('Okuti, Harbert', '0:15:53'),\n",
              " ('Burrell, Ian', '0:15:54'),\n",
              " ('Simpson, Jason M.', '0:15:54')]"
            ]
          },
          "metadata": {
            "tags": []
          },
          "execution_count": 18
        }
      ]
    },
    {
      "cell_type": "code",
      "metadata": {
        "id": "M08B6GRcxuuo",
        "colab": {
          "base_uri": "https://localhost:8080/",
          "height": 95
        },
        "outputId": "602db76a-6eb0-4550-9bd4-ce3acc375fb2"
      },
      "source": [
        "# Example 2\n",
        "# Finding the minimum amount of time taken to cover 15K by an athlete during the marathon. \n",
        "# Hint: We use a where clause to ignore null/blank values - we will learn how to \n",
        "# deal with such values later in the course\n",
        "# \n",
        "%%sql\n",
        "SELECT MIN(\"5K\") \n",
        "FROM Marathon \n",
        "WHERE \"5K\" > 0;"
      ],
      "execution_count": 19,
      "outputs": [
        {
          "output_type": "stream",
          "text": [
            " * sqlite://\n",
            "Done.\n"
          ],
          "name": "stdout"
        },
        {
          "output_type": "execute_result",
          "data": {
            "text/html": [
              "<table>\n",
              "    <thead>\n",
              "        <tr>\n",
              "            <th>MIN(&quot;5K&quot;)</th>\n",
              "        </tr>\n",
              "    </thead>\n",
              "    <tbody>\n",
              "        <tr>\n",
              "            <td>0:15:46</td>\n",
              "        </tr>\n",
              "    </tbody>\n",
              "</table>"
            ],
            "text/plain": [
              "[('0:15:46',)]"
            ]
          },
          "metadata": {
            "tags": []
          },
          "execution_count": 19
        }
      ]
    },
    {
      "cell_type": "code",
      "metadata": {
        "id": "lWtS8KupcHhr",
        "colab": {
          "base_uri": "https://localhost:8080/",
          "height": 95
        },
        "outputId": "2d55a398-aa29-4f5c-88be-5cd67f28bc97"
      },
      "source": [
        "# Example 3\n",
        "# What was the average time covered by all athletes past the 10K mark?\n",
        "# \n",
        "%%sql\n",
        "SELECT time(AVG(\"10K\")) \n",
        "FROM Marathon\n",
        " \n",
        "WHERE \"10K\" > 0;"
      ],
      "execution_count": 20,
      "outputs": [
        {
          "output_type": "stream",
          "text": [
            " * sqlite://\n",
            "Done.\n"
          ],
          "name": "stdout"
        },
        {
          "output_type": "execute_result",
          "data": {
            "text/html": [
              "<table>\n",
              "    <thead>\n",
              "        <tr>\n",
              "            <th>time(AVG(&quot;10K&quot;))</th>\n",
              "        </tr>\n",
              "    </thead>\n",
              "    <tbody>\n",
              "        <tr>\n",
              "            <td>15:06:58</td>\n",
              "        </tr>\n",
              "    </tbody>\n",
              "</table>"
            ],
            "text/plain": [
              "[('15:06:58',)]"
            ]
          },
          "metadata": {
            "tags": []
          },
          "execution_count": 20
        }
      ]
    },
    {
      "cell_type": "code",
      "metadata": {
        "id": "Fxae6-6in3v_",
        "outputId": "72604144-2c50-41b7-e5ee-e68ac2d6a5f7",
        "colab": {
          "base_uri": "https://localhost:8080/",
          "height": 95
        }
      },
      "source": [
        "%%sql\n",
        "SELECT time(AVG(\"5K\"))\n",
        "FROM Marathon\n",
        "WHERE \"5K\">0 ;"
      ],
      "execution_count": 24,
      "outputs": [
        {
          "output_type": "stream",
          "text": [
            " * sqlite://\n",
            "Done.\n"
          ],
          "name": "stdout"
        },
        {
          "output_type": "execute_result",
          "data": {
            "text/html": [
              "<table>\n",
              "    <thead>\n",
              "        <tr>\n",
              "            <th>time(AVG(&quot;5K&quot;))</th>\n",
              "        </tr>\n",
              "    </thead>\n",
              "    <tbody>\n",
              "        <tr>\n",
              "            <td>12:00:00</td>\n",
              "        </tr>\n",
              "    </tbody>\n",
              "</table>"
            ],
            "text/plain": [
              "[('12:00:00',)]"
            ]
          },
          "metadata": {
            "tags": []
          },
          "execution_count": 24
        }
      ]
    },
    {
      "cell_type": "markdown",
      "metadata": {
        "id": "pS4CWYNGcJZw"
      },
      "source": [
        "### <font color=\"green\">1.3 Challenges</font>"
      ]
    },
    {
      "cell_type": "code",
      "metadata": {
        "id": "-1a8zfZFcCHg",
        "colab": {
          "base_uri": "https://localhost:8080/",
          "height": 431
        },
        "outputId": "03ad1d47-0ef0-4cb6-8724-7fe3cba1b28c"
      },
      "source": [
        "# Challenge 1\n",
        "# What were the names and time of the athletes who finished the marathon before 2hrs 15min official time?\n",
        "# NB: Order your names by time in ascending order\n",
        "# \n",
        "%%sql\n",
        "SELECT name,\"Half\"\n",
        "FROM marathon\n",
        "WHERE \"Half\" < \"02:15:00\" \n",
        "ORDER BY \"Half\" ASC;"
      ],
      "execution_count": 27,
      "outputs": [
        {
          "output_type": "stream",
          "text": [
            " * sqlite://\n",
            "Done.\n"
          ],
          "name": "stdout"
        },
        {
          "output_type": "execute_result",
          "data": {
            "text/html": [
              "<table>\n",
              "    <thead>\n",
              "        <tr>\n",
              "            <th>Name</th>\n",
              "            <th>Half</th>\n",
              "        </tr>\n",
              "    </thead>\n",
              "    <tbody>\n",
              "        <tr>\n",
              "            <td>Trimaille, Johan</td>\n",
              "            <td>-</td>\n",
              "        </tr>\n",
              "        <tr>\n",
              "            <td>Zhang, Wei</td>\n",
              "            <td>-</td>\n",
              "        </tr>\n",
              "        <tr>\n",
              "            <td>Turner, Tim R.</td>\n",
              "            <td>-</td>\n",
              "        </tr>\n",
              "        <tr>\n",
              "            <td>Muhlestein, Amber</td>\n",
              "            <td>-</td>\n",
              "        </tr>\n",
              "        <tr>\n",
              "            <td>Hub, Erin</td>\n",
              "            <td>-</td>\n",
              "        </tr>\n",
              "        <tr>\n",
              "            <td>Wilson, David W.</td>\n",
              "            <td>-</td>\n",
              "        </tr>\n",
              "        <tr>\n",
              "            <td>Totten, Mark W.</td>\n",
              "            <td>-</td>\n",
              "        </tr>\n",
              "        <tr>\n",
              "            <td>Rubenstein, Erica L</td>\n",
              "            <td>-</td>\n",
              "        </tr>\n",
              "        <tr>\n",
              "            <td>Stewart, Craig</td>\n",
              "            <td>-</td>\n",
              "        </tr>\n",
              "        <tr>\n",
              "            <td>Noxon, Betsy</td>\n",
              "            <td>-</td>\n",
              "        </tr>\n",
              "        <tr>\n",
              "            <td>Brown, Lisa M</td>\n",
              "            <td>-</td>\n",
              "        </tr>\n",
              "        <tr>\n",
              "            <td>Duncan, Patricia</td>\n",
              "            <td>-</td>\n",
              "        </tr>\n",
              "        <tr>\n",
              "            <td>Peckiconis, Stephen</td>\n",
              "            <td>-</td>\n",
              "        </tr>\n",
              "        <tr>\n",
              "            <td>Wood, Brian R.</td>\n",
              "            <td>-</td>\n",
              "        </tr>\n",
              "        <tr>\n",
              "            <td>Chung, Myun Duk</td>\n",
              "            <td>-</td>\n",
              "        </tr>\n",
              "        <tr>\n",
              "            <td>Jubera, Jeff S</td>\n",
              "            <td>-</td>\n",
              "        </tr>\n",
              "        <tr>\n",
              "            <td>Gilbert, Nadine</td>\n",
              "            <td>-</td>\n",
              "        </tr>\n",
              "    </tbody>\n",
              "</table>"
            ],
            "text/plain": [
              "[('Trimaille, Johan', '-'),\n",
              " ('Zhang, Wei', '-'),\n",
              " ('Turner, Tim R.', '-'),\n",
              " ('Muhlestein, Amber', '-'),\n",
              " ('Hub, Erin', '-'),\n",
              " ('Wilson, David W.', '-'),\n",
              " ('Totten, Mark W.', '-'),\n",
              " ('Rubenstein, Erica L', '-'),\n",
              " ('Stewart, Craig', '-'),\n",
              " ('Noxon, Betsy', '-'),\n",
              " ('Brown, Lisa M', '-'),\n",
              " ('Duncan, Patricia', '-'),\n",
              " ('Peckiconis, Stephen', '-'),\n",
              " ('Wood, Brian R.', '-'),\n",
              " ('Chung, Myun Duk', '-'),\n",
              " ('Jubera, Jeff S', '-'),\n",
              " ('Gilbert, Nadine', '-')]"
            ]
          },
          "metadata": {
            "tags": []
          },
          "execution_count": 27
        }
      ]
    },
    {
      "cell_type": "code",
      "metadata": {
        "id": "0SaAJYQ1cDTo",
        "colab": {
          "base_uri": "https://localhost:8080/",
          "height": 137
        },
        "outputId": "3aa57e50-b34b-4670-b609-ec49a5ddc1cb"
      },
      "source": [
        "# Challenge 2\n",
        "# Which countries came top 3 in completing the marathon before 2hrs 15min?\n",
        "%%sql\n",
        "SELECT Country,\"HALF\"\n",
        "FROM Marathon \n",
        "WHERE \"Half\" < \"02:15:00\"\n",
        "limit 3 ;"
      ],
      "execution_count": 30,
      "outputs": [
        {
          "output_type": "stream",
          "text": [
            " * sqlite://\n",
            "Done.\n"
          ],
          "name": "stdout"
        },
        {
          "output_type": "execute_result",
          "data": {
            "text/html": [
              "<table>\n",
              "    <thead>\n",
              "        <tr>\n",
              "            <th>Country</th>\n",
              "            <th>Half</th>\n",
              "        </tr>\n",
              "    </thead>\n",
              "    <tbody>\n",
              "        <tr>\n",
              "            <td>CAN</td>\n",
              "            <td>-</td>\n",
              "        </tr>\n",
              "        <tr>\n",
              "            <td>CAN</td>\n",
              "            <td>-</td>\n",
              "        </tr>\n",
              "        <tr>\n",
              "            <td>CAN</td>\n",
              "            <td>-</td>\n",
              "        </tr>\n",
              "    </tbody>\n",
              "</table>"
            ],
            "text/plain": [
              "[('CAN', '-'), ('CAN', '-'), ('CAN', '-')]"
            ]
          },
          "metadata": {
            "tags": []
          },
          "execution_count": 30
        }
      ]
    },
    {
      "cell_type": "code",
      "metadata": {
        "id": "6t6YOOZXcEac",
        "colab": {
          "base_uri": "https://localhost:8080/",
          "height": 578
        },
        "outputId": "5b1cdc57-1df2-4153-fc7f-934a531e6412"
      },
      "source": [
        "# Challenge 3\n",
        "# How many athletes ran 30K under 1hr 34min? Name these athletes.\n",
        "# \n",
        "%%sql\n",
        "SELECT name,\"30K\"\n",
        "FROM Marathon\n",
        "WHERE \"30K\" < \"01:34:00\";\n"
      ],
      "execution_count": 31,
      "outputs": [
        {
          "output_type": "stream",
          "text": [
            " * sqlite://\n",
            "Done.\n"
          ],
          "name": "stdout"
        },
        {
          "output_type": "execute_result",
          "data": {
            "text/html": [
              "<table>\n",
              "    <thead>\n",
              "        <tr>\n",
              "            <th>Name</th>\n",
              "            <th>30K</th>\n",
              "        </tr>\n",
              "    </thead>\n",
              "    <tbody>\n",
              "        <tr>\n",
              "            <td>Vosshall, Peter</td>\n",
              "            <td>-</td>\n",
              "        </tr>\n",
              "        <tr>\n",
              "            <td>Zhang, Wei</td>\n",
              "            <td>-</td>\n",
              "        </tr>\n",
              "        <tr>\n",
              "            <td>Koeppe, Torsten</td>\n",
              "            <td>-</td>\n",
              "        </tr>\n",
              "        <tr>\n",
              "            <td>Watanabe, Yuko</td>\n",
              "            <td>-</td>\n",
              "        </tr>\n",
              "        <tr>\n",
              "            <td>Longenberger, Allison</td>\n",
              "            <td>-</td>\n",
              "        </tr>\n",
              "        <tr>\n",
              "            <td>Punkka, Veikko A.</td>\n",
              "            <td>-</td>\n",
              "        </tr>\n",
              "        <tr>\n",
              "            <td>Muhlestein, Amber</td>\n",
              "            <td>-</td>\n",
              "        </tr>\n",
              "        <tr>\n",
              "            <td>Mendoza Briseno, Nayeli M</td>\n",
              "            <td>-</td>\n",
              "        </tr>\n",
              "        <tr>\n",
              "            <td>Joseph, Lauren H.</td>\n",
              "            <td>-</td>\n",
              "        </tr>\n",
              "        <tr>\n",
              "            <td>Jefferies, Abbee J</td>\n",
              "            <td>-</td>\n",
              "        </tr>\n",
              "        <tr>\n",
              "            <td>Shigezumi, Teiko</td>\n",
              "            <td>-</td>\n",
              "        </tr>\n",
              "        <tr>\n",
              "            <td>Totten, Mark W.</td>\n",
              "            <td>-</td>\n",
              "        </tr>\n",
              "        <tr>\n",
              "            <td>Marion, Kalie</td>\n",
              "            <td>-</td>\n",
              "        </tr>\n",
              "        <tr>\n",
              "            <td>Rubenstein, Erica L</td>\n",
              "            <td>-</td>\n",
              "        </tr>\n",
              "        <tr>\n",
              "            <td>Weaver, Cathy Lynn L.</td>\n",
              "            <td>-</td>\n",
              "        </tr>\n",
              "        <tr>\n",
              "            <td>Checket, Maria</td>\n",
              "            <td>-</td>\n",
              "        </tr>\n",
              "        <tr>\n",
              "            <td>Schortmann, Mona</td>\n",
              "            <td>-</td>\n",
              "        </tr>\n",
              "        <tr>\n",
              "            <td>Cheng, Xiwen</td>\n",
              "            <td>-</td>\n",
              "        </tr>\n",
              "        <tr>\n",
              "            <td>Chung, Myun Duk</td>\n",
              "            <td>-</td>\n",
              "        </tr>\n",
              "        <tr>\n",
              "            <td>Misencik, Linda</td>\n",
              "            <td>-</td>\n",
              "        </tr>\n",
              "        <tr>\n",
              "            <td>Shelley, Ruth</td>\n",
              "            <td>-</td>\n",
              "        </tr>\n",
              "        <tr>\n",
              "            <td>Taffeiren, Pamela J.</td>\n",
              "            <td>-</td>\n",
              "        </tr>\n",
              "        <tr>\n",
              "            <td>Greenwood, Doug</td>\n",
              "            <td>-</td>\n",
              "        </tr>\n",
              "        <tr>\n",
              "            <td>Chapin, Pam S.</td>\n",
              "            <td>-</td>\n",
              "        </tr>\n",
              "    </tbody>\n",
              "</table>"
            ],
            "text/plain": [
              "[('Vosshall, Peter', '-'),\n",
              " ('Zhang, Wei', '-'),\n",
              " ('Koeppe, Torsten', '-'),\n",
              " ('Watanabe, Yuko', '-'),\n",
              " ('Longenberger, Allison', '-'),\n",
              " ('Punkka, Veikko A.', '-'),\n",
              " ('Muhlestein, Amber', '-'),\n",
              " ('Mendoza Briseno, Nayeli M', '-'),\n",
              " ('Joseph, Lauren H.', '-'),\n",
              " ('Jefferies, Abbee J', '-'),\n",
              " ('Shigezumi, Teiko', '-'),\n",
              " ('Totten, Mark W.', '-'),\n",
              " ('Marion, Kalie', '-'),\n",
              " ('Rubenstein, Erica L', '-'),\n",
              " ('Weaver, Cathy Lynn L.', '-'),\n",
              " ('Checket, Maria', '-'),\n",
              " ('Schortmann, Mona', '-'),\n",
              " ('Cheng, Xiwen', '-'),\n",
              " ('Chung, Myun Duk', '-'),\n",
              " ('Misencik, Linda', '-'),\n",
              " ('Shelley, Ruth', '-'),\n",
              " ('Taffeiren, Pamela J.', '-'),\n",
              " ('Greenwood, Doug', '-'),\n",
              " ('Chapin, Pam S.', '-')]"
            ]
          },
          "metadata": {
            "tags": []
          },
          "execution_count": 31
        }
      ]
    },
    {
      "cell_type": "markdown",
      "metadata": {
        "id": "JkZaAjv-bSPO"
      },
      "source": [
        "## 1.4 Date Strings"
      ]
    },
    {
      "cell_type": "code",
      "metadata": {
        "id": "Tne2OvPScRy8",
        "colab": {
          "base_uri": "https://localhost:8080/",
          "height": 284
        },
        "outputId": "c9fc3ad1-5cb5-492a-f71a-fa731a491bb2"
      },
      "source": [
        "# Example 1\n",
        "# At times we would like to work with the data that is stored in the form of dates\n",
        "# However, this kind of data can be really difficult to work with if it is not stored\n",
        "# in datetime Data Type i.e. YYYY-MM-DD HH:MM:SS. It can even be misleading while \n",
        "# performing operations to our data. \n",
        "# Thus, when we get a dataset such as the one previewed below we will note that the datetime data \n",
        "# within the \"Date_End_of_Quater\" column is not in the datetime Data Type. \n",
        "# We will need to fix this;\n",
        "# \n",
        "%sql SELECT * FROM Visitors LIMIT 5;"
      ],
      "execution_count": 33,
      "outputs": [
        {
          "output_type": "stream",
          "text": [
            " * sqlite://\n",
            "Done.\n"
          ],
          "name": "stdout"
        },
        {
          "output_type": "execute_result",
          "data": {
            "text/html": [
              "<table>\n",
              "    <thead>\n",
              "        <tr>\n",
              "            <th>Arrival_or_Departure</th>\n",
              "            <th>Date_End_of_Quater</th>\n",
              "            <th>Year_Text</th>\n",
              "            <th>No_of_Visitors_to_Kenya</th>\n",
              "            <th>Visitors_by_Purpose</th>\n",
              "            <th>Period_Quater</th>\n",
              "            <th>Results_Status</th>\n",
              "            <th>OBJECTID</th>\n",
              "        </tr>\n",
              "    </thead>\n",
              "    <tbody>\n",
              "        <tr>\n",
              "            <td>Arrivals</td>\n",
              "            <td>03/31/2005 12:00:00 AM</td>\n",
              "            <td>2005</td>\n",
              "            <td>264600</td>\n",
              "            <td>Visitors on Holiday</td>\n",
              "            <td>Q1</td>\n",
              "            <td>Actual</td>\n",
              "            <td>0</td>\n",
              "        </tr>\n",
              "        <tr>\n",
              "            <td>Arrivals</td>\n",
              "            <td>06/30/1991 12:00:00 AM</td>\n",
              "            <td>1991</td>\n",
              "            <td>149400</td>\n",
              "            <td>Visitors on Holiday</td>\n",
              "            <td>Q2</td>\n",
              "            <td>Actual</td>\n",
              "            <td>1</td>\n",
              "        </tr>\n",
              "        <tr>\n",
              "            <td>Arrivals</td>\n",
              "            <td>09/30/1991 12:00:00 AM</td>\n",
              "            <td>1991</td>\n",
              "            <td>215900</td>\n",
              "            <td>Visitors on Holiday</td>\n",
              "            <td>Q3</td>\n",
              "            <td>Actual</td>\n",
              "            <td>2</td>\n",
              "        </tr>\n",
              "        <tr>\n",
              "            <td>Arrivals</td>\n",
              "            <td>12/31/1991 12:00:00 AM</td>\n",
              "            <td>1991</td>\n",
              "            <td>158400</td>\n",
              "            <td>Visitors on Holiday</td>\n",
              "            <td>Q4</td>\n",
              "            <td>Actual</td>\n",
              "            <td>3</td>\n",
              "        </tr>\n",
              "        <tr>\n",
              "            <td>Arrivals</td>\n",
              "            <td>03/31/1992 12:00:00 AM</td>\n",
              "            <td>1992</td>\n",
              "            <td>155400</td>\n",
              "            <td>Visitors on Holiday</td>\n",
              "            <td>Q1</td>\n",
              "            <td>Actual</td>\n",
              "            <td>4</td>\n",
              "        </tr>\n",
              "    </tbody>\n",
              "</table>"
            ],
            "text/plain": [
              "[('Arrivals', '03/31/2005 12:00:00 AM', '2005', 264600, 'Visitors on Holiday', 'Q1', 'Actual', 0),\n",
              " ('Arrivals', '06/30/1991 12:00:00 AM', '1991', 149400, 'Visitors on Holiday', 'Q2', 'Actual', 1),\n",
              " ('Arrivals', '09/30/1991 12:00:00 AM', '1991', 215900, 'Visitors on Holiday', 'Q3', 'Actual', 2),\n",
              " ('Arrivals', '12/31/1991 12:00:00 AM', '1991', 158400, 'Visitors on Holiday', 'Q4', 'Actual', 3),\n",
              " ('Arrivals', '03/31/1992 12:00:00 AM', '1992', 155400, 'Visitors on Holiday', 'Q1', 'Actual', 4)]"
            ]
          },
          "metadata": {
            "tags": []
          },
          "execution_count": 33
        }
      ]
    },
    {
      "cell_type": "code",
      "metadata": {
        "id": "ayyBRzHXPrI7",
        "colab": {
          "base_uri": "https://localhost:8080/",
          "height": 95
        },
        "outputId": "7c5be9cd-bd81-494b-e410-0f2d16f797f8"
      },
      "source": [
        "# Example 2\n",
        "# In order to convert this kind of data to this format YYYY-MM-DD HH:MM:SS, \n",
        "# we would need to use the substring function. \n",
        "# An example of how the SQL substring function works is as shown in the SQL command\n",
        "# in this cell;\n",
        "# NB: Run this cell several times as you make changes to the numerial parameters 1, 6 \n",
        "# and then observe the output after running this cell\n",
        "#\n",
        "%%sql\n",
        "SELECT substr('SQL Tutorial', 1, 6) AS ExtractString;"
      ],
      "execution_count": 34,
      "outputs": [
        {
          "output_type": "stream",
          "text": [
            " * sqlite://\n",
            "Done.\n"
          ],
          "name": "stdout"
        },
        {
          "output_type": "execute_result",
          "data": {
            "text/html": [
              "<table>\n",
              "    <thead>\n",
              "        <tr>\n",
              "            <th>ExtractString</th>\n",
              "        </tr>\n",
              "    </thead>\n",
              "    <tbody>\n",
              "        <tr>\n",
              "            <td>SQL Tu</td>\n",
              "        </tr>\n",
              "    </tbody>\n",
              "</table>"
            ],
            "text/plain": [
              "[('SQL Tu',)]"
            ]
          },
          "metadata": {
            "tags": []
          },
          "execution_count": 34
        }
      ]
    },
    {
      "cell_type": "code",
      "metadata": {
        "id": "IVS-kshycRqd",
        "colab": {
          "base_uri": "https://localhost:8080/",
          "height": 179
        },
        "outputId": "54ab6364-3c98-4bf6-d571-e35030edd1d5"
      },
      "source": [
        "# Example 3\n",
        "# Let's now select the \"Date_End_of_Quater\" data in the datetime data type format.\n",
        "# We will apply the SQL substr function to the respective column\n",
        "# then select the characters specifying our range then concatenating (combining)\n",
        "# the selected substrings.\n",
        "#  \n",
        "%%sql\n",
        "SELECT substr(\"Date_End_of_Quater\", 7, 4) \n",
        "|| \"-\" || substr(\"Date_End_of_Quater\", 4, 2) \n",
        "|| \"-\" || substr(\"Date_End_of_Quater\", 1, 2) \n",
        "|| \" \" || substr(\"Date_End_of_Quater\", 12,9)\n",
        "AS New_Date_End_of_Quarter\n",
        "FROM Visitors Limit 5;"
      ],
      "execution_count": 35,
      "outputs": [
        {
          "output_type": "stream",
          "text": [
            " * sqlite://\n",
            "Done.\n"
          ],
          "name": "stdout"
        },
        {
          "output_type": "execute_result",
          "data": {
            "text/html": [
              "<table>\n",
              "    <thead>\n",
              "        <tr>\n",
              "            <th>New_Date_End_of_Quarter</th>\n",
              "        </tr>\n",
              "    </thead>\n",
              "    <tbody>\n",
              "        <tr>\n",
              "            <td>2005-31-03 12:00:00 </td>\n",
              "        </tr>\n",
              "        <tr>\n",
              "            <td>1991-30-06 12:00:00 </td>\n",
              "        </tr>\n",
              "        <tr>\n",
              "            <td>1991-30-09 12:00:00 </td>\n",
              "        </tr>\n",
              "        <tr>\n",
              "            <td>1991-31-12 12:00:00 </td>\n",
              "        </tr>\n",
              "        <tr>\n",
              "            <td>1992-31-03 12:00:00 </td>\n",
              "        </tr>\n",
              "    </tbody>\n",
              "</table>"
            ],
            "text/plain": [
              "[('2005-31-03 12:00:00 ',),\n",
              " ('1991-30-06 12:00:00 ',),\n",
              " ('1991-30-09 12:00:00 ',),\n",
              " ('1991-31-12 12:00:00 ',),\n",
              " ('1992-31-03 12:00:00 ',)]"
            ]
          },
          "metadata": {
            "tags": []
          },
          "execution_count": 35
        }
      ]
    },
    {
      "cell_type": "code",
      "metadata": {
        "id": "Nij-PotCmZQC",
        "colab": {
          "base_uri": "https://localhost:8080/"
        },
        "outputId": "1efa80a3-0eed-4c33-fde2-3ab0f2966e9d"
      },
      "source": [
        "# Example 4\n",
        "# Once we are certain that the selected data is in the datetime data type format,\n",
        "# we can then update the table as shown; Remember we learnt how to update data \n",
        "# in our table last week? :) \n",
        "# This will allow us to start using that updated table for further investigation\n",
        "# \n",
        "%%sql\n",
        "UPDATE Visitors \n",
        "set \"Date_End_of_Quater\" = substr(\"Date_End_of_Quater\", 7, 4) \n",
        "|| \"-\" || substr(\"Date_End_of_Quater\", 4, 2) \n",
        "|| \"-\" || substr(\"Date_End_of_Quater\", 1, 2) \n",
        "|| \" \" || substr(\"Date_End_of_Quater\", 12,9)"
      ],
      "execution_count": 37,
      "outputs": [
        {
          "output_type": "stream",
          "text": [
            " * sqlite://\n",
            "832 rows affected.\n"
          ],
          "name": "stdout"
        },
        {
          "output_type": "execute_result",
          "data": {
            "text/plain": [
              "[]"
            ]
          },
          "metadata": {
            "tags": []
          },
          "execution_count": 37
        }
      ]
    },
    {
      "cell_type": "code",
      "metadata": {
        "id": "_V5F2sd8n6Gl",
        "colab": {
          "base_uri": "https://localhost:8080/",
          "height": 199
        },
        "outputId": "b53e1d3b-c8fc-4db7-e543-213afac9a4f2"
      },
      "source": [
        "# Example 5\n",
        "# We can preview our dataset below so as to note the changes we have made to our \n",
        "# \"Date_End_of_Quater\" column which now looks super :) \n",
        "# \n",
        "%%sql\n",
        "SELECT * \n",
        "FROM Visitors Limit 5; "
      ],
      "execution_count": 39,
      "outputs": [
        {
          "output_type": "stream",
          "text": [
            " * sqlite://\n",
            "Done.\n"
          ],
          "name": "stdout"
        },
        {
          "output_type": "execute_result",
          "data": {
            "text/html": [
              "<table>\n",
              "    <thead>\n",
              "        <tr>\n",
              "            <th>Arrival_or_Departure</th>\n",
              "            <th>Date_End_of_Quater</th>\n",
              "            <th>Year_Text</th>\n",
              "            <th>No_of_Visitors_to_Kenya</th>\n",
              "            <th>Visitors_by_Purpose</th>\n",
              "            <th>Period_Quater</th>\n",
              "            <th>Results_Status</th>\n",
              "            <th>OBJECTID</th>\n",
              "        </tr>\n",
              "    </thead>\n",
              "    <tbody>\n",
              "        <tr>\n",
              "            <td>Arrivals</td>\n",
              "            <td>2005-31-03 12:00:00 </td>\n",
              "            <td>2005</td>\n",
              "            <td>264600</td>\n",
              "            <td>Visitors on Holiday</td>\n",
              "            <td>Q1</td>\n",
              "            <td>Actual</td>\n",
              "            <td>0</td>\n",
              "        </tr>\n",
              "        <tr>\n",
              "            <td>Arrivals</td>\n",
              "            <td>1991-30-06 12:00:00 </td>\n",
              "            <td>1991</td>\n",
              "            <td>149400</td>\n",
              "            <td>Visitors on Holiday</td>\n",
              "            <td>Q2</td>\n",
              "            <td>Actual</td>\n",
              "            <td>1</td>\n",
              "        </tr>\n",
              "        <tr>\n",
              "            <td>Arrivals</td>\n",
              "            <td>1991-30-09 12:00:00 </td>\n",
              "            <td>1991</td>\n",
              "            <td>215900</td>\n",
              "            <td>Visitors on Holiday</td>\n",
              "            <td>Q3</td>\n",
              "            <td>Actual</td>\n",
              "            <td>2</td>\n",
              "        </tr>\n",
              "        <tr>\n",
              "            <td>Arrivals</td>\n",
              "            <td>1991-31-12 12:00:00 </td>\n",
              "            <td>1991</td>\n",
              "            <td>158400</td>\n",
              "            <td>Visitors on Holiday</td>\n",
              "            <td>Q4</td>\n",
              "            <td>Actual</td>\n",
              "            <td>3</td>\n",
              "        </tr>\n",
              "        <tr>\n",
              "            <td>Arrivals</td>\n",
              "            <td>1992-31-03 12:00:00 </td>\n",
              "            <td>1992</td>\n",
              "            <td>155400</td>\n",
              "            <td>Visitors on Holiday</td>\n",
              "            <td>Q1</td>\n",
              "            <td>Actual</td>\n",
              "            <td>4</td>\n",
              "        </tr>\n",
              "    </tbody>\n",
              "</table>"
            ],
            "text/plain": [
              "[('Arrivals', '2005-31-03 12:00:00 ', '2005', 264600, 'Visitors on Holiday', 'Q1', 'Actual', 0),\n",
              " ('Arrivals', '1991-30-06 12:00:00 ', '1991', 149400, 'Visitors on Holiday', 'Q2', 'Actual', 1),\n",
              " ('Arrivals', '1991-30-09 12:00:00 ', '1991', 215900, 'Visitors on Holiday', 'Q3', 'Actual', 2),\n",
              " ('Arrivals', '1991-31-12 12:00:00 ', '1991', 158400, 'Visitors on Holiday', 'Q4', 'Actual', 3),\n",
              " ('Arrivals', '1992-31-03 12:00:00 ', '1992', 155400, 'Visitors on Holiday', 'Q1', 'Actual', 4)]"
            ]
          },
          "metadata": {
            "tags": []
          },
          "execution_count": 39
        }
      ]
    },
    {
      "cell_type": "code",
      "metadata": {
        "id": "wGr96euaW6up",
        "colab": {
          "base_uri": "https://localhost:8080/",
          "height": 430
        },
        "outputId": "9da799c6-8c86-4fe2-f396-a0473fa7780e"
      },
      "source": [
        "# Example 6\n",
        "# We now continue into investigating our dataset; We answer the following question;\n",
        "# Which arrivals and depatures happened before 10th June, 1991?  \n",
        "# Solution:\n",
        "#\n",
        "%%sql\n",
        "SELECT * \n",
        "FROM Visitors \n",
        "WHERE \"Date_End_of_Quater\" < '1991-30-10';"
      ],
      "execution_count": 40,
      "outputs": [
        {
          "output_type": "stream",
          "text": [
            " * sqlite://\n",
            "Done.\n"
          ],
          "name": "stdout"
        },
        {
          "output_type": "execute_result",
          "data": {
            "text/html": [
              "<table>\n",
              "    <thead>\n",
              "        <tr>\n",
              "            <th>Arrival_or_Departure</th>\n",
              "            <th>Date_End_of_Quater</th>\n",
              "            <th>Year_Text</th>\n",
              "            <th>No_of_Visitors_to_Kenya</th>\n",
              "            <th>Visitors_by_Purpose</th>\n",
              "            <th>Period_Quater</th>\n",
              "            <th>Results_Status</th>\n",
              "            <th>OBJECTID</th>\n",
              "        </tr>\n",
              "    </thead>\n",
              "    <tbody>\n",
              "        <tr>\n",
              "            <td>Arrivals</td>\n",
              "            <td>1991-30-06 12:00:00 </td>\n",
              "            <td>1991</td>\n",
              "            <td>149400</td>\n",
              "            <td>Visitors on Holiday</td>\n",
              "            <td>Q2</td>\n",
              "            <td>Actual</td>\n",
              "            <td>1</td>\n",
              "        </tr>\n",
              "        <tr>\n",
              "            <td>Arrivals</td>\n",
              "            <td>1991-30-09 12:00:00 </td>\n",
              "            <td>1991</td>\n",
              "            <td>215900</td>\n",
              "            <td>Visitors on Holiday</td>\n",
              "            <td>Q3</td>\n",
              "            <td>Actual</td>\n",
              "            <td>2</td>\n",
              "        </tr>\n",
              "        <tr>\n",
              "            <td>Departures</td>\n",
              "            <td>1991-30-06 12:00:00 </td>\n",
              "            <td>1991</td>\n",
              "            <td>111200</td>\n",
              "            <td>Visitors on Holiday</td>\n",
              "            <td>Q2</td>\n",
              "            <td>Actual</td>\n",
              "            <td>148</td>\n",
              "        </tr>\n",
              "        <tr>\n",
              "            <td>Departures</td>\n",
              "            <td>1991-30-09 12:00:00 </td>\n",
              "            <td>1991</td>\n",
              "            <td>156200</td>\n",
              "            <td>Visitors on Holiday</td>\n",
              "            <td>Q3</td>\n",
              "            <td>Actual</td>\n",
              "            <td>168</td>\n",
              "        </tr>\n",
              "        <tr>\n",
              "            <td>Arrivals</td>\n",
              "            <td>1991-30-06 12:00:00 </td>\n",
              "            <td>1991</td>\n",
              "            <td>16600</td>\n",
              "            <td>Visitors on Business</td>\n",
              "            <td>Q2</td>\n",
              "            <td>Actual</td>\n",
              "            <td>209</td>\n",
              "        </tr>\n",
              "        <tr>\n",
              "            <td>Arrivals</td>\n",
              "            <td>1991-30-09 12:00:00 </td>\n",
              "            <td>1991</td>\n",
              "            <td>23100</td>\n",
              "            <td>Visitors on Business</td>\n",
              "            <td>Q3</td>\n",
              "            <td>Actual</td>\n",
              "            <td>210</td>\n",
              "        </tr>\n",
              "        <tr>\n",
              "            <td>Departures</td>\n",
              "            <td>1991-30-06 12:00:00 </td>\n",
              "            <td>1991</td>\n",
              "            <td>17900</td>\n",
              "            <td>Visitors on Business</td>\n",
              "            <td>Q2</td>\n",
              "            <td>Actual</td>\n",
              "            <td>356</td>\n",
              "        </tr>\n",
              "        <tr>\n",
              "            <td>Departures</td>\n",
              "            <td>1991-30-09 12:00:00 </td>\n",
              "            <td>1991</td>\n",
              "            <td>17800</td>\n",
              "            <td>Visitors on Business</td>\n",
              "            <td>Q3</td>\n",
              "            <td>Actual</td>\n",
              "            <td>376</td>\n",
              "        </tr>\n",
              "        <tr>\n",
              "            <td>Arrivals</td>\n",
              "            <td>1991-30-06 12:00:00 </td>\n",
              "            <td>1991</td>\n",
              "            <td>5100</td>\n",
              "            <td>Visitors in Transit</td>\n",
              "            <td>Q2</td>\n",
              "            <td>Actual</td>\n",
              "            <td>417</td>\n",
              "        </tr>\n",
              "        <tr>\n",
              "            <td>Arrivals</td>\n",
              "            <td>1991-30-09 12:00:00 </td>\n",
              "            <td>1991</td>\n",
              "            <td>13200</td>\n",
              "            <td>Visitors in Transit</td>\n",
              "            <td>Q3</td>\n",
              "            <td>Actual</td>\n",
              "            <td>418</td>\n",
              "        </tr>\n",
              "        <tr>\n",
              "            <td>Departures</td>\n",
              "            <td>1991-30-06 12:00:00 </td>\n",
              "            <td>1991</td>\n",
              "            <td>11100</td>\n",
              "            <td>Visitors in Transit</td>\n",
              "            <td>Q2</td>\n",
              "            <td>Actual</td>\n",
              "            <td>564</td>\n",
              "        </tr>\n",
              "        <tr>\n",
              "            <td>Departures</td>\n",
              "            <td>1991-30-09 12:00:00 </td>\n",
              "            <td>1991</td>\n",
              "            <td>11700</td>\n",
              "            <td>Visitors in Transit</td>\n",
              "            <td>Q3</td>\n",
              "            <td>Actual</td>\n",
              "            <td>584</td>\n",
              "        </tr>\n",
              "        <tr>\n",
              "            <td>Arrivals</td>\n",
              "            <td>1991-30-06 12:00:00 </td>\n",
              "            <td>1991</td>\n",
              "            <td>2400</td>\n",
              "            <td>Other</td>\n",
              "            <td>Q2</td>\n",
              "            <td>Actual</td>\n",
              "            <td>625</td>\n",
              "        </tr>\n",
              "        <tr>\n",
              "            <td>Arrivals</td>\n",
              "            <td>1991-30-09 12:00:00 </td>\n",
              "            <td>1991</td>\n",
              "            <td>4100</td>\n",
              "            <td>Other</td>\n",
              "            <td>Q3</td>\n",
              "            <td>Actual</td>\n",
              "            <td>626</td>\n",
              "        </tr>\n",
              "        <tr>\n",
              "            <td>Departures</td>\n",
              "            <td>1991-30-06 12:00:00 </td>\n",
              "            <td>1991</td>\n",
              "            <td>1200</td>\n",
              "            <td>Other</td>\n",
              "            <td>Q2</td>\n",
              "            <td>Actual</td>\n",
              "            <td>772</td>\n",
              "        </tr>\n",
              "        <tr>\n",
              "            <td>Departures</td>\n",
              "            <td>1991-30-09 12:00:00 </td>\n",
              "            <td>1991</td>\n",
              "            <td>2200</td>\n",
              "            <td>Other</td>\n",
              "            <td>Q3</td>\n",
              "            <td>Actual</td>\n",
              "            <td>792</td>\n",
              "        </tr>\n",
              "    </tbody>\n",
              "</table>"
            ],
            "text/plain": [
              "[('Arrivals', '1991-30-06 12:00:00 ', '1991', 149400, 'Visitors on Holiday', 'Q2', 'Actual', 1),\n",
              " ('Arrivals', '1991-30-09 12:00:00 ', '1991', 215900, 'Visitors on Holiday', 'Q3', 'Actual', 2),\n",
              " ('Departures', '1991-30-06 12:00:00 ', '1991', 111200, 'Visitors on Holiday', 'Q2', 'Actual', 148),\n",
              " ('Departures', '1991-30-09 12:00:00 ', '1991', 156200, 'Visitors on Holiday', 'Q3', 'Actual', 168),\n",
              " ('Arrivals', '1991-30-06 12:00:00 ', '1991', 16600, 'Visitors on Business', 'Q2', 'Actual', 209),\n",
              " ('Arrivals', '1991-30-09 12:00:00 ', '1991', 23100, 'Visitors on Business', 'Q3', 'Actual', 210),\n",
              " ('Departures', '1991-30-06 12:00:00 ', '1991', 17900, 'Visitors on Business', 'Q2', 'Actual', 356),\n",
              " ('Departures', '1991-30-09 12:00:00 ', '1991', 17800, 'Visitors on Business', 'Q3', 'Actual', 376),\n",
              " ('Arrivals', '1991-30-06 12:00:00 ', '1991', 5100, 'Visitors in Transit', 'Q2', 'Actual', 417),\n",
              " ('Arrivals', '1991-30-09 12:00:00 ', '1991', 13200, 'Visitors in Transit', 'Q3', 'Actual', 418),\n",
              " ('Departures', '1991-30-06 12:00:00 ', '1991', 11100, 'Visitors in Transit', 'Q2', 'Actual', 564),\n",
              " ('Departures', '1991-30-09 12:00:00 ', '1991', 11700, 'Visitors in Transit', 'Q3', 'Actual', 584),\n",
              " ('Arrivals', '1991-30-06 12:00:00 ', '1991', 2400, 'Other', 'Q2', 'Actual', 625),\n",
              " ('Arrivals', '1991-30-09 12:00:00 ', '1991', 4100, 'Other', 'Q3', 'Actual', 626),\n",
              " ('Departures', '1991-30-06 12:00:00 ', '1991', 1200, 'Other', 'Q2', 'Actual', 772),\n",
              " ('Departures', '1991-30-09 12:00:00 ', '1991', 2200, 'Other', 'Q3', 'Actual', 792)]"
            ]
          },
          "metadata": {
            "tags": []
          },
          "execution_count": 40
        }
      ]
    },
    {
      "cell_type": "code",
      "metadata": {
        "id": "wz4km85zcRiD",
        "colab": {
          "base_uri": "https://localhost:8080/",
          "height": 241
        },
        "outputId": "d257ed21-7e78-4db6-8ca6-a338a8163687"
      },
      "source": [
        "# Example 7\n",
        "# Which arrivals and depatures happened after 30th June 2000?  \n",
        "%%sql\n",
        "SELECT *\n",
        "FROM Visitors\n",
        "WHERE \"Date_End_of_Quater\" > \"2000-30-06\" LIMIT 7;"
      ],
      "execution_count": 44,
      "outputs": [
        {
          "output_type": "stream",
          "text": [
            " * sqlite://\n",
            "Done.\n"
          ],
          "name": "stdout"
        },
        {
          "output_type": "execute_result",
          "data": {
            "text/html": [
              "<table>\n",
              "    <thead>\n",
              "        <tr>\n",
              "            <th>Arrival_or_Departure</th>\n",
              "            <th>Date_End_of_Quater</th>\n",
              "            <th>Year_Text</th>\n",
              "            <th>No_of_Visitors_to_Kenya</th>\n",
              "            <th>Visitors_by_Purpose</th>\n",
              "            <th>Period_Quater</th>\n",
              "            <th>Results_Status</th>\n",
              "            <th>OBJECTID</th>\n",
              "        </tr>\n",
              "    </thead>\n",
              "    <tbody>\n",
              "        <tr>\n",
              "            <td>Arrivals</td>\n",
              "            <td>2005-31-03 12:00:00 </td>\n",
              "            <td>2005</td>\n",
              "            <td>264600</td>\n",
              "            <td>Visitors on Holiday</td>\n",
              "            <td>Q1</td>\n",
              "            <td>Actual</td>\n",
              "            <td>0</td>\n",
              "        </tr>\n",
              "        <tr>\n",
              "            <td>Arrivals</td>\n",
              "            <td>2000-31-03 12:00:00 </td>\n",
              "            <td>2000</td>\n",
              "            <td>194500</td>\n",
              "            <td>Visitors on Holiday</td>\n",
              "            <td>Q1</td>\n",
              "            <td>Actual</td>\n",
              "            <td>36</td>\n",
              "        </tr>\n",
              "        <tr>\n",
              "            <td>Arrivals</td>\n",
              "            <td>2000-30-06 12:00:00 </td>\n",
              "            <td>2000</td>\n",
              "            <td>165500</td>\n",
              "            <td>Visitors on Holiday</td>\n",
              "            <td>Q2</td>\n",
              "            <td>Actual</td>\n",
              "            <td>37</td>\n",
              "        </tr>\n",
              "        <tr>\n",
              "            <td>Arrivals</td>\n",
              "            <td>2000-30-09 12:00:00 </td>\n",
              "            <td>2000</td>\n",
              "            <td>211100</td>\n",
              "            <td>Visitors on Holiday</td>\n",
              "            <td>Q3</td>\n",
              "            <td>Actual</td>\n",
              "            <td>38</td>\n",
              "        </tr>\n",
              "        <tr>\n",
              "            <td>Arrivals</td>\n",
              "            <td>2000-31-12 12:00:00 </td>\n",
              "            <td>2000</td>\n",
              "            <td>207100</td>\n",
              "            <td>Visitors on Holiday</td>\n",
              "            <td>Q4</td>\n",
              "            <td>Actual</td>\n",
              "            <td>39</td>\n",
              "        </tr>\n",
              "        <tr>\n",
              "            <td>Arrivals</td>\n",
              "            <td>2001-31-03 12:00:00 </td>\n",
              "            <td>2001</td>\n",
              "            <td>200300</td>\n",
              "            <td>Visitors on Holiday</td>\n",
              "            <td>Q1</td>\n",
              "            <td>Actual</td>\n",
              "            <td>40</td>\n",
              "        </tr>\n",
              "        <tr>\n",
              "            <td>Arrivals</td>\n",
              "            <td>2001-30-06 12:00:00 </td>\n",
              "            <td>2001</td>\n",
              "            <td>149600</td>\n",
              "            <td>Visitors on Holiday</td>\n",
              "            <td>Q2</td>\n",
              "            <td>Actual</td>\n",
              "            <td>41</td>\n",
              "        </tr>\n",
              "    </tbody>\n",
              "</table>"
            ],
            "text/plain": [
              "[('Arrivals', '2005-31-03 12:00:00 ', '2005', 264600, 'Visitors on Holiday', 'Q1', 'Actual', 0),\n",
              " ('Arrivals', '2000-31-03 12:00:00 ', '2000', 194500, 'Visitors on Holiday', 'Q1', 'Actual', 36),\n",
              " ('Arrivals', '2000-30-06 12:00:00 ', '2000', 165500, 'Visitors on Holiday', 'Q2', 'Actual', 37),\n",
              " ('Arrivals', '2000-30-09 12:00:00 ', '2000', 211100, 'Visitors on Holiday', 'Q3', 'Actual', 38),\n",
              " ('Arrivals', '2000-31-12 12:00:00 ', '2000', 207100, 'Visitors on Holiday', 'Q4', 'Actual', 39),\n",
              " ('Arrivals', '2001-31-03 12:00:00 ', '2001', 200300, 'Visitors on Holiday', 'Q1', 'Actual', 40),\n",
              " ('Arrivals', '2001-30-06 12:00:00 ', '2001', 149600, 'Visitors on Holiday', 'Q2', 'Actual', 41)]"
            ]
          },
          "metadata": {
            "tags": []
          },
          "execution_count": 44
        }
      ]
    },
    {
      "cell_type": "markdown",
      "metadata": {
        "id": "VIT5Iy-kcSMl"
      },
      "source": [
        "### <font color=\"green\">1.4 Challenges</font>"
      ]
    },
    {
      "cell_type": "code",
      "metadata": {
        "id": "BRWaaWEUcRal",
        "colab": {
          "base_uri": "https://localhost:8080/",
          "height": 137
        },
        "outputId": "e92a5f3c-b52e-47de-fa37-c1400406a50a"
      },
      "source": [
        "# Challenge\n",
        "# Using the tea_production dataset, which three dates had tea production \n",
        "# before the date with the most tea production?\n",
        "%%sql\n",
        "SELECT Date,\"Millions_in_KGS_\"\n",
        "FROM tea \n",
        "WHERE \"Millions_in_KGS_\" < \"46.8\"\n",
        "LIMIT 3;"
      ],
      "execution_count": 46,
      "outputs": [
        {
          "output_type": "stream",
          "text": [
            " * sqlite://\n",
            "Done.\n"
          ],
          "name": "stdout"
        },
        {
          "output_type": "execute_result",
          "data": {
            "text/html": [
              "<table>\n",
              "    <thead>\n",
              "        <tr>\n",
              "            <th>Date</th>\n",
              "            <th>Millions_in_KGS_</th>\n",
              "        </tr>\n",
              "    </thead>\n",
              "    <tbody>\n",
              "        <tr>\n",
              "            <td>01/25/2003 12:00:00 AM</td>\n",
              "            <td>32.8</td>\n",
              "        </tr>\n",
              "        <tr>\n",
              "            <td>02/25/2003 12:00:00 AM</td>\n",
              "            <td>23.6</td>\n",
              "        </tr>\n",
              "        <tr>\n",
              "            <td>03/25/2003 12:00:00 AM</td>\n",
              "            <td>15.0</td>\n",
              "        </tr>\n",
              "    </tbody>\n",
              "</table>"
            ],
            "text/plain": [
              "[('01/25/2003 12:00:00 AM', 32.8),\n",
              " ('02/25/2003 12:00:00 AM', 23.6),\n",
              " ('03/25/2003 12:00:00 AM', 15.0)]"
            ]
          },
          "metadata": {
            "tags": []
          },
          "execution_count": 46
        }
      ]
    }
  ]
}